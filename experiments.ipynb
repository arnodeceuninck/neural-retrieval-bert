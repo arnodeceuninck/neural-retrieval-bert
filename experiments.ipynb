{
 "cells": [
  {
   "cell_type": "markdown",
   "metadata": {
    "collapsed": true,
    "pycharm": {
     "name": "#%% md\n"
    }
   },
   "source": [
    "# Evaluation\n",
    "In order to experiment with new models, we first need a way to evaluate the results we achieved."
   ]
  },
  {
   "cell_type": "code",
   "execution_count": 20,
   "metadata": {
    "pycharm": {
     "name": "#%%\n"
    }
   },
   "outputs": [],
   "source": [
    "import pandas as pd\n",
    "\n",
    "\n",
    "# We're using a document retriever class, to make it easier to perform the evaluator code on different models\n",
    "class DocumentRetriever:\n",
    "    all_docs = pd.read_csv(\"data/all_docs.csv\")\n",
    "    all_queries = pd.read_csv(\"data/dev_queries.csv\")\n",
    "\n",
    "    @staticmethod\n",
    "    def get_value_by_id_from_df(id, id_column, value_column, df):\n",
    "        value = df[df[id_column] == id][value_column].iat[0]\n",
    "        return value\n",
    "\n",
    "    @staticmethod\n",
    "    def query_nr_to_text(query_nr):\n",
    "        return DocumentRetriever.get_value_by_id_from_df(query_nr, 'Query_number', 'Query',\n",
    "                                                         DocumentRetriever.all_queries)\n",
    "\n",
    "    @staticmethod\n",
    "    def doc_nr_to_text(doc_number):\n",
    "        return DocumentRetriever.get_value_by_id_from_df(doc_number, 'doc_number', 'doc_text',\n",
    "                                                         DocumentRetriever.all_docs)\n",
    "\n",
    "    def __init__(self):\n",
    "        pass\n",
    "\n",
    "    def retrieve_documents(self, query_number, n):\n",
    "        # Return the n best recommendations (ordered by decreasing relevance) for given query\n",
    "        raise Exception(\"Function not implemented in subclass\")"
   ]
  },
  {
   "cell_type": "code",
   "execution_count": 21,
   "metadata": {
    "pycharm": {
     "name": "#%%\n"
    }
   },
   "outputs": [
    {
     "data": {
      "text/plain": "[476602, 432658, 429474, 346632, 122086, 362869, 60461, 417115, 29215, 467667]"
     },
     "execution_count": 21,
     "metadata": {},
     "output_type": "execute_result"
    }
   ],
   "source": [
    "class LuceneRetriever(DocumentRetriever):\n",
    "    lucene_raw_retrievals = pd.read_csv(\"data/raw_dev_Lucene_retrievals.csv\")\n",
    "\n",
    "    def __init__(self):\n",
    "        super().__init__()\n",
    "\n",
    "    def retrieve_documents(self, query_number, n):\n",
    "        relevant_docs = self.lucene_raw_retrievals[self.lucene_raw_retrievals['Query_number'] == query_number]\n",
    "        top_n = relevant_docs.head(n)\n",
    "        return top_n['doc_number'].to_list()\n",
    "\n",
    "\n",
    "luceneRetriever = LuceneRetriever()\n",
    "results = luceneRetriever.retrieve_documents(1089071, 10)\n",
    "results"
   ]
  },
  {
   "cell_type": "code",
   "execution_count": 22,
   "metadata": {
    "pycharm": {
     "name": "#%%\n"
    }
   },
   "outputs": [],
   "source": [
    "class GroundTruthRetriever(DocumentRetriever):\n",
    "    ground_truth = pd.read_csv(\"data/dev_data.csv\")\n",
    "\n",
    "    def __init__(self):\n",
    "        super().__init__()\n",
    "\n",
    "    def retrieve_documents(self, query_number, n):\n",
    "        #assert n is None # The truth has no limits, it just retrieves all relevant documents -> nevermind, the ground_truth is also ranked, so I can perfectly get a top-k\n",
    "        query_results = self.ground_truth[self.ground_truth['Query_number'] == query_number]\n",
    "        relevant_docs = query_results[query_results['label'] == 1]\n",
    "        top_n = relevant_docs.head(n)\n",
    "        return top_n['doc_number'].to_list()"
   ]
  },
  {
   "cell_type": "code",
   "execution_count": 23,
   "metadata": {
    "pycharm": {
     "name": "#%%\n"
    }
   },
   "outputs": [],
   "source": [
    "from tqdm.notebook import tqdm\n",
    "\n",
    "\n",
    "class ModelRater:\n",
    "    ground_truth_retriever = GroundTruthRetriever()\n",
    "    probe_data = pd.read_csv(\"data/dev_queries.csv\")\n",
    "\n",
    "    def __init__(self):\n",
    "        pass\n",
    "\n",
    "    def single_query_recall_precission(self, query_nr, n, retriever):\n",
    "        query_results = set(retriever.retrieve_documents(query_nr, n))\n",
    "        ground_truth = set(self.ground_truth_retriever.retrieve_documents(query_nr, n))\n",
    "\n",
    "        # Some of this code is based on https://stackoverflow.com/questions/55952408/how-to-calculate-precision-and-recall-of-2-lists-in-python\n",
    "        intersect_length = len(query_results.intersection(ground_truth))\n",
    "        precision = intersect_length / len(query_results)\n",
    "        recall = intersect_length / len(ground_truth)\n",
    "\n",
    "        # print(f\"R({recall}), P({precision})\")\n",
    "\n",
    "        return recall, precision\n",
    "\n",
    "    def get_rating(self, retriever: DocumentRetriever, n=10) -> (float, float):\n",
    "        # returns the recall, precision\n",
    "\n",
    "        precision_sum = 0\n",
    "        recall_sum = 0\n",
    "        query_count = 0\n",
    "        # For every query in probe data, determine the results\n",
    "        for counter, query in tqdm(self.probe_data.iterrows(), total=self.probe_data.shape[0]):\n",
    "            query_nr = query['Query_number']\n",
    "\n",
    "            recall, precision = self.single_query_recall_precission(query_nr, n, retriever)\n",
    "\n",
    "            precision_sum += precision\n",
    "            recall_sum += recall\n",
    "            query_count += 1\n",
    "\n",
    "        avg_precision = precision_sum / query_count\n",
    "        avg_recall = recall_sum / query_count\n",
    "\n",
    "        print(f\"Recall@{n}: {avg_recall}, Precision@{n}: {avg_precision}\")\n",
    "\n",
    "        return avg_recall, avg_precision\n",
    "\n",
    "\n",
    "rater = ModelRater()"
   ]
  },
  {
   "cell_type": "code",
   "execution_count": 5,
   "metadata": {
    "pycharm": {
     "name": "#%%\n"
    }
   },
   "outputs": [
    {
     "data": {
      "application/vnd.jupyter.widget-view+json": {
       "model_id": "7296ff0c08fe47538933e273952d5d85",
       "version_major": 2,
       "version_minor": 0
      },
      "text/plain": [
       "  0%|          | 0/644 [00:00<?, ?it/s]"
      ]
     },
     "metadata": {},
     "output_type": "display_data"
    },
    {
     "name": "stdout",
     "output_type": "stream",
     "text": [
      "Recall@10: 1.0, Precision@10: 1.0\n"
     ]
    },
    {
     "data": {
      "text/plain": [
       "(1.0, 1.0)"
      ]
     },
     "execution_count": 5,
     "metadata": {},
     "output_type": "execute_result"
    }
   ],
   "source": [
    "# Just for testing, this should return 1, 1\n",
    "rater.get_rating(ModelRater.ground_truth_retriever)"
   ]
  },
  {
   "cell_type": "code",
   "execution_count": 6,
   "metadata": {
    "pycharm": {
     "name": "#%%\n"
    }
   },
   "outputs": [
    {
     "data": {
      "application/vnd.jupyter.widget-view+json": {
       "model_id": "6239a9e83bb044c09826620ed9a99f91",
       "version_major": 2,
       "version_minor": 0
      },
      "text/plain": [
       "  0%|          | 0/644 [00:00<?, ?it/s]"
      ]
     },
     "metadata": {},
     "output_type": "display_data"
    },
    {
     "name": "stdout",
     "output_type": "stream",
     "text": [
      "Recall@10: 0.49958099181701693, Precision@10: 0.49642857142857183\n"
     ]
    }
   ],
   "source": [
    "recall, precision = rater.get_rating(luceneRetriever)"
   ]
  },
  {
   "cell_type": "markdown",
   "metadata": {
    "pycharm": {
     "name": "#%% md\n"
    }
   },
   "source": [
    "The problem in this comment has been fixed (and so it's outdated). You'll read more about the fix somewhere below, in the section \"Rater changes\".\n",
    "\n",
    "Copy of the output on which the comment was based:\n",
    "```\n",
    "Recall: 0.32744769762105247, Precision: 1.0\n",
    "```\n",
    "It's strange that the precision is always exactly 1.0. This is probably because the ground truth results (dev_data.csv) is based on the lucene retrievals (raw_dev_Lucene_retrievals.csv).\n",
    "\n",
    "## BM25 retrieval\n",
    "Another lexical search, which was mentioned in the SBERT-Documentation. Note that some of the methods here are partially copied from that documentation.\n",
    "\n",
    "We already defined a help function in the DocumentRetriever class to get the query given the query_nr."
   ]
  },
  {
   "cell_type": "code",
   "execution_count": 7,
   "metadata": {
    "pycharm": {
     "name": "#%%\n"
    }
   },
   "outputs": [
    {
     "data": {
      "text/plain": [
       "'how does sperm develop'"
      ]
     },
     "execution_count": 7,
     "metadata": {},
     "output_type": "execute_result"
    }
   ],
   "source": [
    "DocumentRetriever.query_nr_to_text(1099178)"
   ]
  },
  {
   "cell_type": "code",
   "execution_count": 8,
   "metadata": {
    "pycharm": {
     "name": "#%%\n"
    }
   },
   "outputs": [],
   "source": [
    "# We also compare the results to lexical search (keyword search). Here, we use\n",
    "# the BM25 algorithm which is implemented in the rank_bm25 package.\n",
    "\n",
    "from rank_bm25 import BM25Okapi\n",
    "from sklearn.feature_extraction import _stop_words\n",
    "import string\n",
    "import numpy as np\n",
    "\n",
    "\n",
    "class Bm25Retriever(DocumentRetriever):\n",
    "    def __init__(self):\n",
    "        super().__init__()\n",
    "\n",
    "        self.reverse_index = []\n",
    "        self.tokenized_corpus = []\n",
    "        for count, row in tqdm(DocumentRetriever.all_docs.iterrows(), total=DocumentRetriever.all_docs.shape[0]):\n",
    "            # Work with a smaller dataset when debugging\n",
    "            # if len(self.reverse_index) == 1000:\n",
    "            #     break\n",
    "            passage = str(row['doc_text'])\n",
    "            doc_nr = row['doc_number']\n",
    "            self.tokenized_corpus.append(self.bm25_tokenizer(passage))\n",
    "            self.reverse_index.append(doc_nr)\n",
    "\n",
    "        self.bm25 = BM25Okapi(self.tokenized_corpus)\n",
    "\n",
    "    # We lower case our text and remove stop-words from indexing\n",
    "    @staticmethod\n",
    "    def bm25_tokenizer(text):\n",
    "        tokenized_doc = []\n",
    "        for token in text.lower().split():\n",
    "            token = token.strip(string.punctuation)\n",
    "\n",
    "            if len(token) > 0 and token not in _stop_words.ENGLISH_STOP_WORDS:\n",
    "                tokenized_doc.append(token)\n",
    "        return tokenized_doc\n",
    "\n",
    "    def search(self, query_text, n):\n",
    "        # This code is based on the code from sbert-doc.ipynb\n",
    "        bm25_scores = self.bm25.get_scores(self.bm25_tokenizer(query_text))\n",
    "        top_n = np.argpartition(bm25_scores, -n)[-n:]\n",
    "        bm25_hits = [{'corpus_id': idx, 'score': bm25_scores[idx]} for idx in top_n]\n",
    "        bm25_hits = sorted(bm25_hits, key=lambda x: x['score'], reverse=True)\n",
    "\n",
    "        results = []\n",
    "        for hit in bm25_hits:\n",
    "            results.append(self.reverse_index[hit['corpus_id']])\n",
    "        return results\n",
    "\n",
    "    def retrieve_documents(self, query_number, n):\n",
    "        return self.search(self.query_nr_to_text(query_number), n)\n",
    "\n",
    "\n",
    "bm25Retriever = Bm25Retriever()\n",
    "recall, precision = rater.get_rating(bm25Retriever)"
   ]
  },
  {
   "cell_type": "markdown",
   "metadata": {
    "pycharm": {
     "name": "#%% md\n"
    }
   },
   "source": [
    "## MsMarco\n",
    "See what's the precision on the pretrained MsMarco bi-encoder and cross-encoder. Some of the methods are based on code from the `sbert-doc.ipynb` notebook."
   ]
  },
  {
   "cell_type": "code",
   "execution_count": 9,
   "metadata": {
    "pycharm": {
     "name": "#%%\n"
    }
   },
   "outputs": [],
   "source": [
    "class ReRankRetriever(DocumentRetriever):\n",
    "    def __init__(self, top_k=50):\n",
    "        \"\"\"\n",
    "        :param top_k: Number of variables to get with the first function\n",
    "        \"\"\"\n",
    "        super().__init__()\n",
    "        self.top_k = top_k  #Number of passages we want to select before reranking\n",
    "\n",
    "    def select_candidates(self, query, query_nr=None):\n",
    "        # Typically done by e.g. a bi-encoder\n",
    "        raise Exception(\"Not implemented\")\n",
    "\n",
    "    def rerank_candidates(self, candidates, query):\n",
    "        # Candidates is the output of the select_candidates function\n",
    "        # Typically done by e.g. a cross-encoder\n",
    "        raise Exception(\"Not implemented\")\n",
    "\n",
    "    def retrieve_documents(self, query_nr, n):\n",
    "        query = self.query_nr_to_text(query_nr)\n",
    "\n",
    "        # Find potentially relevant passages\n",
    "        hits = self.select_candidates(query, query_nr=query_nr)\n",
    "\n",
    "        # Re-rank those matches\n",
    "        ranked = self.rerank_candidates(hits, query)\n",
    "\n",
    "        return ranked[0:n]"
   ]
  },
  {
   "cell_type": "code",
   "execution_count": 10,
   "metadata": {
    "pycharm": {
     "name": "#%%\n"
    }
   },
   "outputs": [],
   "source": [
    "from sentence_transformers import SentenceTransformer, CrossEncoder, util\n",
    "import torch\n",
    "from tqdm import tqdm\n",
    "\n",
    "\n",
    "class BiCrossRetriever(ReRankRetriever):\n",
    "    def __init__(self, bi_encoder_name='msmarco-bert-base-dot-v5',\n",
    "                 cross_encoder_name='cross-encoder/ms-marco-TinyBERT-L-2-v2'):\n",
    "        super().__init__()\n",
    "        print(\"Super inited\")\n",
    "\n",
    "        if not torch.cuda.is_available():\n",
    "            print(\"Warning: No GPU found. Please add GPU to your notebook\")\n",
    "\n",
    "        #We use the Bi-Encoder to encode all passages, so that we can use it with sematic search\n",
    "        self.bi_encoder = SentenceTransformer(bi_encoder_name)\n",
    "        self.bi_encoder.max_seq_length = 256  #Truncate long passages to 256 tokens\n",
    "\n",
    "        #The bi-encoder will retrieve 100 documents. We use a cross-encoder, to re-rank the results list to improve the quality\n",
    "        self.cross_encoder = CrossEncoder(cross_encoder_name)\n",
    "\n",
    "        self.passages = []\n",
    "        self.reverse_indices = []\n",
    "        for index, row in tqdm(self.all_docs.iterrows(), total=self.all_docs.shape[0]):\n",
    "            # if len(self.passages) > 50:\n",
    "            #     # Use a very small subset when debugging\n",
    "            #     break\n",
    "            data = row['doc_text']\n",
    "            first_words = \" \".join(str(data).split()[:500])  # Only take the first 500 words\n",
    "            self.passages.append(first_words)\n",
    "            self.reverse_indices.append(row['doc_number'])\n",
    "\n",
    "        print(\"Passages:\", len(self.passages))\n",
    "\n",
    "        # We encode all passages into our vector space.\n",
    "        self.corpus_embeddings = self.bi_encoder.encode(self.passages, convert_to_tensor=True, show_progress_bar=True)\n",
    "\n",
    "    def select_candidates(self, query, query_nr=None):\n",
    "        # Get the bi-encoder hits\n",
    "        question_embedding = self.bi_encoder.encode(query, convert_to_tensor=True)\n",
    "        question_embedding = question_embedding.cuda()\n",
    "        hits = util.semantic_search(question_embedding, self.corpus_embeddings, top_k=self.top_k)\n",
    "        hits = hits[0]  # Get the hits for the first query\n",
    "        return hits\n",
    "\n",
    "    def rerank_candidates(self, candidates, query, n=None):\n",
    "        # Rank with cross-encoder\n",
    "        cross_inp = [[query, self.passages[hit['corpus_id']]] for hit in candidates]\n",
    "        cross_scores = self.cross_encoder.predict(cross_inp)\n",
    "\n",
    "        # Sort results by the cross-encoder scores\n",
    "        for idx in range(len(cross_scores)):\n",
    "            candidates[idx]['cross-score'] = cross_scores[idx]\n",
    "        hits = sorted(candidates, key=lambda x: x['cross-score'], reverse=True)\n",
    "\n",
    "        if n is not None:\n",
    "            hits = hits[0:n]\n",
    "\n",
    "        results = []\n",
    "        for hit in hits:\n",
    "            results.append(self.reverse_indices[hit['corpus_id']])\n",
    "\n",
    "        return results\n",
    "\n",
    "biCrossRetriever = BiCrossRetriever()\n",
    "recall, precision = rater.get_rating(biCrossRetriever)"
   ]
  },
  {
   "cell_type": "code",
   "execution_count": 31,
   "metadata": {
    "pycharm": {
     "name": "#%%\n"
    }
   },
   "outputs": [],
   "source": [
    "from sentence_transformers import SentenceTransformer, CrossEncoder, util\n",
    "import torch\n",
    "from tqdm import tqdm\n",
    "\n",
    "\n",
    "class LuceneCrossRetriever(ReRankRetriever):\n",
    "    # Firsts selects top-k hits using lucene, then reranks them using a cross-encoder\n",
    "    lucene_retriever = LuceneRetriever()\n",
    "\n",
    "    def __init__(self, cross_encoder_name='cross-encoder/ms-marco-TinyBERT-L-2-v2', cross_encoder=None):\n",
    "        super().__init__()  #Note: If this retriever is too slow for you, you can lower the top-k value here\n",
    "        if cross_encoder is not None:\n",
    "            self.cross_encoder = cross_encoder\n",
    "        else:\n",
    "            self.cross_encoder = CrossEncoder(cross_encoder_name)\n",
    "\n",
    "    def select_candidates(self, query, query_nr=None):\n",
    "        assert query_nr is not None\n",
    "        lucene_results = self.lucene_retriever.retrieve_documents(query_nr, n=self.top_k)\n",
    "        return list(map(lambda x: {'doc_nr': x}, lucene_results))\n",
    "\n",
    "    def rerank_candidates(self, candidates, query, n=None):\n",
    "        # Rank with cross-encoder\n",
    "        cross_inp = [[query, DocumentRetriever.doc_nr_to_text(hit['doc_nr'])] for hit in candidates]\n",
    "        cross_scores = self.cross_encoder.predict(cross_inp)\n",
    "\n",
    "        # Sort results by the cross-encoder scores\n",
    "        for idx in range(len(cross_scores)):\n",
    "            candidates[idx]['cross-score'] = cross_scores[idx]\n",
    "        hits = sorted(candidates, key=lambda x: x['cross-score'], reverse=True)\n",
    "\n",
    "        if n is not None:\n",
    "            hits = hits[0:n]\n",
    "\n",
    "        results = []\n",
    "        for hit in hits:\n",
    "            results.append(hit['doc_nr'])\n",
    "\n",
    "        return results\n",
    "\n",
    "luceneCrossRetriever = LuceneCrossRetriever()\n",
    "recall, precision = rater.get_rating(luceneCrossRetriever)"
   ]
  },
  {
   "cell_type": "markdown",
   "metadata": {
    "pycharm": {
     "name": "#%% md\n"
    }
   },
   "source": [
    "\n",
    "## Rater changes\n",
    "This initially gave the same results as the LuceneRetriever, which is probably the best possible result for recall@10 and precission@10, because the ground truth was probably based on Lucene. This means that I'll have to change the rater.\n",
    "First thing we might consider, is lowering the number of elements that get retrieved when creating the recall and the precission (currently n=10)."
   ]
  },
  {
   "cell_type": "code",
   "execution_count": 12,
   "metadata": {
    "pycharm": {
     "name": "#%%\n"
    }
   },
   "outputs": [
    {
     "name": "stderr",
     "output_type": "stream",
     "text": [
      "100%|██████████| 644/644 [00:00<00:00, 1166.67it/s]\n"
     ]
    },
    {
     "name": "stdout",
     "output_type": "stream",
     "text": [
      "Recall@1: 0.44875776397515527, Precision@1: 0.44875776397515527\n"
     ]
    },
    {
     "name": "stderr",
     "output_type": "stream",
     "text": [
      "100%|██████████| 644/644 [00:00<00:00, 1149.93it/s]\n"
     ]
    },
    {
     "name": "stdout",
     "output_type": "stream",
     "text": [
      "Recall@3: 0.4860248447204972, Precision@3: 0.4860248447204972\n"
     ]
    },
    {
     "name": "stderr",
     "output_type": "stream",
     "text": [
      "100%|██████████| 644/644 [00:00<00:00, 1154.05it/s]\n"
     ]
    },
    {
     "name": "stdout",
     "output_type": "stream",
     "text": [
      "Recall@5: 0.4885093167701864, Precision@5: 0.4885093167701864\n"
     ]
    },
    {
     "name": "stderr",
     "output_type": "stream",
     "text": [
      "100%|██████████| 644/644 [00:00<00:00, 1137.87it/s]\n"
     ]
    },
    {
     "name": "stdout",
     "output_type": "stream",
     "text": [
      "Recall@10: 0.49958099181701693, Precision@10: 0.49642857142857183\n"
     ]
    },
    {
     "name": "stderr",
     "output_type": "stream",
     "text": [
      "100%|██████████| 644/644 [00:00<00:00, 1017.38it/s]"
     ]
    },
    {
     "name": "stdout",
     "output_type": "stream",
     "text": [
      "Recall@50: 1.0, Precision@50: 0.5026468846546215\n"
     ]
    },
    {
     "name": "stderr",
     "output_type": "stream",
     "text": [
      "\n"
     ]
    },
    {
     "data": {
      "text/plain": [
       "(1.0, 0.5026468846546215)"
      ]
     },
     "execution_count": 12,
     "metadata": {},
     "output_type": "execute_result"
    }
   ],
   "source": [
    "rater.get_rating(luceneRetriever, 1)\n",
    "rater.get_rating(luceneRetriever, 3)\n",
    "rater.get_rating(luceneRetriever, 5)\n",
    "rater.get_rating(luceneRetriever, 10)\n",
    "rater.get_rating(luceneRetriever, 50)"
   ]
  },
  {
   "cell_type": "markdown",
   "metadata": {
    "pycharm": {
     "name": "#%% md\n"
    }
   },
   "source": [
    "Copy of the original output (since this might get lost when reexecuting):\n",
    "```\n",
    "100%|██████████| 644/644 [00:00<00:00, 917.35it/s]\n",
    "Recall: 0.03274476976210539, Precision: 1.0\n",
    "100%|██████████| 644/644 [00:00<00:00, 993.27it/s]\n",
    "Recall: 0.0982343092863159, Precision: 1.0\n",
    "100%|██████████| 644/644 [00:00<00:00, 1002.92it/s]\n",
    "Recall: 0.16372384881052623, Precision: 1.0\n",
    "100%|██████████| 644/644 [00:00<00:00, 877.29it/s]\n",
    "Recall: 0.32744769762105247, Precision: 1.0\n",
    "100%|██████████| 644/644 [00:00<00:00, 914.63it/s]\n",
    "Recall: 1.0, Precision: 0.9993899733806567\n",
    "```\n",
    "The precision remains kind off the same (only whith n=50 it's not 1.0, but that's probably because the ground truth doesn't have 50 matches for everything).\n",
    "The recall gets higher, which makes sense, since more of the results get retrieved.\n",
    "This is still not what we want, since we can't compare our models this way.\n",
    "\n",
    "### Relevant only\n",
    "I'm just stupied, I forgot to only use the relevant documents :facepalm: The code above has been updated."
   ]
  },
  {
   "cell_type": "code",
   "execution_count": 13,
   "metadata": {
    "pycharm": {
     "name": "#%%\n"
    }
   },
   "outputs": [
    {
     "name": "stderr",
     "output_type": "stream",
     "text": [
      "100%|██████████| 644/644 [00:00<00:00, 1120.00it/s]\n"
     ]
    },
    {
     "name": "stdout",
     "output_type": "stream",
     "text": [
      "Recall@1: 0.44875776397515527, Precision@1: 0.44875776397515527\n"
     ]
    },
    {
     "name": "stderr",
     "output_type": "stream",
     "text": [
      "100%|██████████| 644/644 [00:00<00:00, 1136.61it/s]\n"
     ]
    },
    {
     "name": "stdout",
     "output_type": "stream",
     "text": [
      "Recall@3: 0.4860248447204972, Precision@3: 0.4860248447204972\n"
     ]
    },
    {
     "name": "stderr",
     "output_type": "stream",
     "text": [
      "100%|██████████| 644/644 [00:00<00:00, 1166.59it/s]\n"
     ]
    },
    {
     "name": "stdout",
     "output_type": "stream",
     "text": [
      "Recall@5: 0.4885093167701864, Precision@5: 0.4885093167701864\n"
     ]
    },
    {
     "name": "stderr",
     "output_type": "stream",
     "text": [
      "100%|██████████| 644/644 [00:00<00:00, 1158.14it/s]\n"
     ]
    },
    {
     "name": "stdout",
     "output_type": "stream",
     "text": [
      "Recall@10: 0.49958099181701693, Precision@10: 0.49642857142857183\n"
     ]
    },
    {
     "name": "stderr",
     "output_type": "stream",
     "text": [
      "100%|██████████| 644/644 [00:00<00:00, 1156.13it/s]"
     ]
    },
    {
     "name": "stdout",
     "output_type": "stream",
     "text": [
      "Recall@50: 1.0, Precision@50: 0.5026468846546215\n"
     ]
    },
    {
     "name": "stderr",
     "output_type": "stream",
     "text": [
      "\n"
     ]
    },
    {
     "data": {
      "text/plain": [
       "(1.0, 0.5026468846546215)"
      ]
     },
     "execution_count": 13,
     "metadata": {},
     "output_type": "execute_result"
    }
   ],
   "source": [
    "rater.get_rating(luceneRetriever, 1)\n",
    "rater.get_rating(luceneRetriever, 3)\n",
    "rater.get_rating(luceneRetriever, 5)\n",
    "rater.get_rating(luceneRetriever, 10)\n",
    "rater.get_rating(luceneRetriever, 50)"
   ]
  },
  {
   "cell_type": "markdown",
   "metadata": {
    "pycharm": {
     "name": "#%% md\n"
    }
   },
   "source": [
    "### Ground truth top-k only\n",
    "Appearently, the results in the ground truth are also ranked based on relvance, I can also here just use the top-k instead of always comparing with all relevant documents."
   ]
  },
  {
   "cell_type": "code",
   "execution_count": 24,
   "outputs": [
    {
     "data": {
      "text/plain": "  0%|          | 0/644 [00:00<?, ?it/s]",
      "application/vnd.jupyter.widget-view+json": {
       "version_major": 2,
       "version_minor": 0,
       "model_id": "612a439534f04361897e105cb107ddc2"
      }
     },
     "metadata": {},
     "output_type": "display_data"
    },
    {
     "name": "stdout",
     "output_type": "stream",
     "text": [
      "Recall@1: 0.44875776397515527, Precision@1: 0.44875776397515527\n"
     ]
    },
    {
     "data": {
      "text/plain": "  0%|          | 0/644 [00:00<?, ?it/s]",
      "application/vnd.jupyter.widget-view+json": {
       "version_major": 2,
       "version_minor": 0,
       "model_id": "f8d608085aec47589262879721002c22"
      }
     },
     "metadata": {},
     "output_type": "display_data"
    },
    {
     "name": "stdout",
     "output_type": "stream",
     "text": [
      "Recall@3: 0.4860248447204972, Precision@3: 0.4860248447204972\n"
     ]
    },
    {
     "data": {
      "text/plain": "  0%|          | 0/644 [00:00<?, ?it/s]",
      "application/vnd.jupyter.widget-view+json": {
       "version_major": 2,
       "version_minor": 0,
       "model_id": "5cf7d07cd62b464ea380b7c81de6954c"
      }
     },
     "metadata": {},
     "output_type": "display_data"
    },
    {
     "name": "stdout",
     "output_type": "stream",
     "text": [
      "Recall@5: 0.4885093167701864, Precision@5: 0.4885093167701864\n"
     ]
    },
    {
     "data": {
      "text/plain": "  0%|          | 0/644 [00:00<?, ?it/s]",
      "application/vnd.jupyter.widget-view+json": {
       "version_major": 2,
       "version_minor": 0,
       "model_id": "2f555575a3a645639e9f58d18c728434"
      }
     },
     "metadata": {},
     "output_type": "display_data"
    },
    {
     "name": "stdout",
     "output_type": "stream",
     "text": [
      "Recall@10: 0.49958099181701693, Precision@10: 0.49642857142857183\n"
     ]
    },
    {
     "data": {
      "text/plain": "  0%|          | 0/644 [00:00<?, ?it/s]",
      "application/vnd.jupyter.widget-view+json": {
       "version_major": 2,
       "version_minor": 0,
       "model_id": "9cdaf4ff71d1474bad27d01855dab752"
      }
     },
     "metadata": {},
     "output_type": "display_data"
    },
    {
     "name": "stdout",
     "output_type": "stream",
     "text": [
      "Recall@50: 1.0, Precision@50: 0.5026468846546215\n"
     ]
    },
    {
     "data": {
      "text/plain": "(1.0, 0.5026468846546215)"
     },
     "execution_count": 24,
     "metadata": {},
     "output_type": "execute_result"
    }
   ],
   "source": [
    "rater.get_rating(luceneRetriever, 1)\n",
    "rater.get_rating(luceneRetriever, 3)\n",
    "rater.get_rating(luceneRetriever, 5)\n",
    "rater.get_rating(luceneRetriever, 10)\n",
    "rater.get_rating(luceneRetriever, 50)"
   ],
   "metadata": {
    "collapsed": false,
    "pycharm": {
     "name": "#%%\n"
    }
   }
  },
  {
   "cell_type": "markdown",
   "source": [
    "# Intermediate Results\n",
    "Here is an overview of the results we got so far:\n",
    "\n",
    "| Name                       | Recall@10 | Precission@10 |\n",
    "|----------------------------|-----------|---------------|\n",
    "| GroundTruthRetriever       | 1.00000   | 1.00000       |\n",
    "| LuceneRetriever            | 0.49958   | 0.49642       |\n",
    "| Bm25Retriever              | 0.43229   | 0.56536       |\n",
    "| BiCrossRetriever (MsMarco) | 0.25137   | 0.30258       |\n",
    "| LuceneCrossRetriever       | 0.43721   | 0.43416       |\n",
    "\n",
    "The LuceneRetriever is currently still having the best recall and the best precission is for the Bm25Retriever, which also isn't a neural retrieval model (besides the GroundTruthRetriever of course, which is perfect).\n",
    "Strangely, the BiCrossRetriever is the worst of them all, so I'll try to improve the LuceneCrossRetriever.\n",
    "\n",
    "# CrossEncoders\n",
    "The LuceneRetriever is currently working the best, so try this one with some different CrossEncoders.\n",
    "I tested some pretrained models listed in the [documentation](https://www.sbert.net/docs/pretrained_cross-encoders.html)."
   ],
   "metadata": {
    "collapsed": false,
    "pycharm": {
     "name": "#%% md\n"
    }
   }
  },
  {
   "cell_type": "code",
   "execution_count": 9,
   "metadata": {
    "pycharm": {
     "name": "#%%\n"
    }
   },
   "outputs": [
    {
     "name": "stdout",
     "output_type": "stream",
     "text": [
      "ms-marco-TinyBERT-L-2-v2\n"
     ]
    },
    {
     "name": "stderr",
     "output_type": "stream",
     "text": [
      "  0%|          | 0/644 [00:00<?, ?it/s]\n"
     ]
    },
    {
     "ename": "RuntimeError",
     "evalue": "CUDA out of memory. Tried to allocate 50.00 MiB (GPU 0; 4.00 GiB total capacity; 2.73 GiB already allocated; 0 bytes free; 2.75 GiB reserved in total by PyTorch) If reserved memory is >> allocated memory try setting max_split_size_mb to avoid fragmentation.  See documentation for Memory Management and PYTORCH_CUDA_ALLOC_CONF",
     "output_type": "error",
     "traceback": [
      "\u001B[1;31m---------------------------------------------------------------------------\u001B[0m",
      "\u001B[1;31mRuntimeError\u001B[0m                              Traceback (most recent call last)",
      "\u001B[1;32m~\\AppData\\Local\\Temp/ipykernel_18276/3435503385.py\u001B[0m in \u001B[0;36m<module>\u001B[1;34m\u001B[0m\n\u001B[0;32m      2\u001B[0m \u001B[1;31m# The one we tried earlier\u001B[0m\u001B[1;33m\u001B[0m\u001B[1;33m\u001B[0m\u001B[0m\n\u001B[0;32m      3\u001B[0m \u001B[0mprint\u001B[0m\u001B[1;33m(\u001B[0m\u001B[1;34m'ms-marco-TinyBERT-L-2-v2'\u001B[0m\u001B[1;33m)\u001B[0m\u001B[1;33m\u001B[0m\u001B[1;33m\u001B[0m\u001B[0m\n\u001B[1;32m----> 4\u001B[1;33m \u001B[0mrater\u001B[0m\u001B[1;33m.\u001B[0m\u001B[0mget_rating\u001B[0m\u001B[1;33m(\u001B[0m\u001B[0mLuceneCrossRetriever\u001B[0m\u001B[1;33m(\u001B[0m\u001B[1;34m'cross-encoder/ms-marco-TinyBERT-L-2-v2'\u001B[0m\u001B[1;33m)\u001B[0m\u001B[1;33m)\u001B[0m\u001B[1;33m\u001B[0m\u001B[1;33m\u001B[0m\u001B[0m\n\u001B[0m\u001B[0;32m      5\u001B[0m \u001B[1;33m\u001B[0m\u001B[0m\n\u001B[0;32m      6\u001B[0m \u001B[1;31m# A more powerfull version of the Ms-Marco (but takes more time)\u001B[0m\u001B[1;33m\u001B[0m\u001B[1;33m\u001B[0m\u001B[0m\n",
      "\u001B[1;32m~\\AppData\\Local\\Temp/ipykernel_18276/3578554420.py\u001B[0m in \u001B[0;36mget_rating\u001B[1;34m(self, retriever, n)\u001B[0m\n\u001B[0;32m     32\u001B[0m             \u001B[0mquery_nr\u001B[0m \u001B[1;33m=\u001B[0m \u001B[0mquery\u001B[0m\u001B[1;33m[\u001B[0m\u001B[1;34m'Query_number'\u001B[0m\u001B[1;33m]\u001B[0m\u001B[1;33m\u001B[0m\u001B[1;33m\u001B[0m\u001B[0m\n\u001B[0;32m     33\u001B[0m \u001B[1;33m\u001B[0m\u001B[0m\n\u001B[1;32m---> 34\u001B[1;33m             \u001B[0mrecall\u001B[0m\u001B[1;33m,\u001B[0m \u001B[0mprecision\u001B[0m \u001B[1;33m=\u001B[0m \u001B[0mself\u001B[0m\u001B[1;33m.\u001B[0m\u001B[0msingle_query_recall_precission\u001B[0m\u001B[1;33m(\u001B[0m\u001B[0mquery_nr\u001B[0m\u001B[1;33m,\u001B[0m \u001B[0mn\u001B[0m\u001B[1;33m,\u001B[0m \u001B[0mretriever\u001B[0m\u001B[1;33m)\u001B[0m\u001B[1;33m\u001B[0m\u001B[1;33m\u001B[0m\u001B[0m\n\u001B[0m\u001B[0;32m     35\u001B[0m \u001B[1;33m\u001B[0m\u001B[0m\n\u001B[0;32m     36\u001B[0m             \u001B[0mprecision_sum\u001B[0m \u001B[1;33m+=\u001B[0m \u001B[0mprecision\u001B[0m\u001B[1;33m\u001B[0m\u001B[1;33m\u001B[0m\u001B[0m\n",
      "\u001B[1;32m~\\AppData\\Local\\Temp/ipykernel_18276/3578554420.py\u001B[0m in \u001B[0;36msingle_query_recall_precission\u001B[1;34m(self, query_nr, n, retriever)\u001B[0m\n\u001B[0;32m      9\u001B[0m \u001B[1;33m\u001B[0m\u001B[0m\n\u001B[0;32m     10\u001B[0m     \u001B[1;32mdef\u001B[0m \u001B[0msingle_query_recall_precission\u001B[0m\u001B[1;33m(\u001B[0m\u001B[0mself\u001B[0m\u001B[1;33m,\u001B[0m \u001B[0mquery_nr\u001B[0m\u001B[1;33m,\u001B[0m \u001B[0mn\u001B[0m\u001B[1;33m,\u001B[0m \u001B[0mretriever\u001B[0m\u001B[1;33m)\u001B[0m\u001B[1;33m:\u001B[0m\u001B[1;33m\u001B[0m\u001B[1;33m\u001B[0m\u001B[0m\n\u001B[1;32m---> 11\u001B[1;33m         \u001B[0mquery_results\u001B[0m \u001B[1;33m=\u001B[0m \u001B[0mset\u001B[0m\u001B[1;33m(\u001B[0m\u001B[0mretriever\u001B[0m\u001B[1;33m.\u001B[0m\u001B[0mretrieve_documents\u001B[0m\u001B[1;33m(\u001B[0m\u001B[0mquery_nr\u001B[0m\u001B[1;33m,\u001B[0m \u001B[0mn\u001B[0m\u001B[1;33m)\u001B[0m\u001B[1;33m)\u001B[0m\u001B[1;33m\u001B[0m\u001B[1;33m\u001B[0m\u001B[0m\n\u001B[0m\u001B[0;32m     12\u001B[0m         \u001B[0mground_truth\u001B[0m \u001B[1;33m=\u001B[0m \u001B[0mset\u001B[0m\u001B[1;33m(\u001B[0m\u001B[0mself\u001B[0m\u001B[1;33m.\u001B[0m\u001B[0mground_truth_retriever\u001B[0m\u001B[1;33m.\u001B[0m\u001B[0mretrieve_documents\u001B[0m\u001B[1;33m(\u001B[0m\u001B[0mquery_nr\u001B[0m\u001B[1;33m,\u001B[0m \u001B[0mn\u001B[0m\u001B[1;33m)\u001B[0m\u001B[1;33m)\u001B[0m\u001B[1;33m\u001B[0m\u001B[1;33m\u001B[0m\u001B[0m\n\u001B[0;32m     13\u001B[0m \u001B[1;33m\u001B[0m\u001B[0m\n",
      "\u001B[1;32m~\\AppData\\Local\\Temp/ipykernel_18276/118289037.py\u001B[0m in \u001B[0;36mretrieve_documents\u001B[1;34m(self, query_nr, n)\u001B[0m\n\u001B[0;32m     23\u001B[0m \u001B[1;33m\u001B[0m\u001B[0m\n\u001B[0;32m     24\u001B[0m         \u001B[1;31m# Re-rank those matches\u001B[0m\u001B[1;33m\u001B[0m\u001B[1;33m\u001B[0m\u001B[0m\n\u001B[1;32m---> 25\u001B[1;33m         \u001B[0mranked\u001B[0m \u001B[1;33m=\u001B[0m \u001B[0mself\u001B[0m\u001B[1;33m.\u001B[0m\u001B[0mrerank_candidates\u001B[0m\u001B[1;33m(\u001B[0m\u001B[0mhits\u001B[0m\u001B[1;33m,\u001B[0m \u001B[0mquery\u001B[0m\u001B[1;33m)\u001B[0m\u001B[1;33m\u001B[0m\u001B[1;33m\u001B[0m\u001B[0m\n\u001B[0m\u001B[0;32m     26\u001B[0m \u001B[1;33m\u001B[0m\u001B[0m\n\u001B[0;32m     27\u001B[0m         \u001B[1;32mreturn\u001B[0m \u001B[0mranked\u001B[0m\u001B[1;33m[\u001B[0m\u001B[1;36m0\u001B[0m\u001B[1;33m:\u001B[0m\u001B[0mn\u001B[0m\u001B[1;33m]\u001B[0m\u001B[1;33m\u001B[0m\u001B[1;33m\u001B[0m\u001B[0m\n",
      "\u001B[1;32m~\\AppData\\Local\\Temp/ipykernel_18276/3005464072.py\u001B[0m in \u001B[0;36mrerank_candidates\u001B[1;34m(self, candidates, query, n)\u001B[0m\n\u001B[0;32m     20\u001B[0m         \u001B[1;31m# Rank with cross-encoder\u001B[0m\u001B[1;33m\u001B[0m\u001B[1;33m\u001B[0m\u001B[0m\n\u001B[0;32m     21\u001B[0m         \u001B[0mcross_inp\u001B[0m \u001B[1;33m=\u001B[0m \u001B[1;33m[\u001B[0m\u001B[1;33m[\u001B[0m\u001B[0mquery\u001B[0m\u001B[1;33m,\u001B[0m \u001B[0mDocumentRetriever\u001B[0m\u001B[1;33m.\u001B[0m\u001B[0mdoc_nr_to_text\u001B[0m\u001B[1;33m(\u001B[0m\u001B[0mhit\u001B[0m\u001B[1;33m[\u001B[0m\u001B[1;34m'doc_nr'\u001B[0m\u001B[1;33m]\u001B[0m\u001B[1;33m)\u001B[0m\u001B[1;33m]\u001B[0m \u001B[1;32mfor\u001B[0m \u001B[0mhit\u001B[0m \u001B[1;32min\u001B[0m \u001B[0mcandidates\u001B[0m\u001B[1;33m]\u001B[0m\u001B[1;33m\u001B[0m\u001B[1;33m\u001B[0m\u001B[0m\n\u001B[1;32m---> 22\u001B[1;33m         \u001B[0mcross_scores\u001B[0m \u001B[1;33m=\u001B[0m \u001B[0mself\u001B[0m\u001B[1;33m.\u001B[0m\u001B[0mcross_encoder\u001B[0m\u001B[1;33m.\u001B[0m\u001B[0mpredict\u001B[0m\u001B[1;33m(\u001B[0m\u001B[0mcross_inp\u001B[0m\u001B[1;33m)\u001B[0m\u001B[1;33m\u001B[0m\u001B[1;33m\u001B[0m\u001B[0m\n\u001B[0m\u001B[0;32m     23\u001B[0m \u001B[1;33m\u001B[0m\u001B[0m\n\u001B[0;32m     24\u001B[0m         \u001B[1;31m# Sort results by the cross-encoder scores\u001B[0m\u001B[1;33m\u001B[0m\u001B[1;33m\u001B[0m\u001B[0m\n",
      "\u001B[1;32mc:\\users\\arnod\\pycharmprojects\\neural-retrieval-bert\\venv\\lib\\site-packages\\sentence_transformers\\cross_encoder\\CrossEncoder.py\u001B[0m in \u001B[0;36mpredict\u001B[1;34m(self, sentences, batch_size, show_progress_bar, num_workers, activation_fct, apply_softmax, convert_to_numpy, convert_to_tensor)\u001B[0m\n\u001B[0;32m    272\u001B[0m         \u001B[1;32mwith\u001B[0m \u001B[0mtorch\u001B[0m\u001B[1;33m.\u001B[0m\u001B[0mno_grad\u001B[0m\u001B[1;33m(\u001B[0m\u001B[1;33m)\u001B[0m\u001B[1;33m:\u001B[0m\u001B[1;33m\u001B[0m\u001B[1;33m\u001B[0m\u001B[0m\n\u001B[0;32m    273\u001B[0m             \u001B[1;32mfor\u001B[0m \u001B[0mfeatures\u001B[0m \u001B[1;32min\u001B[0m \u001B[0miterator\u001B[0m\u001B[1;33m:\u001B[0m\u001B[1;33m\u001B[0m\u001B[1;33m\u001B[0m\u001B[0m\n\u001B[1;32m--> 274\u001B[1;33m                 \u001B[0mmodel_predictions\u001B[0m \u001B[1;33m=\u001B[0m \u001B[0mself\u001B[0m\u001B[1;33m.\u001B[0m\u001B[0mmodel\u001B[0m\u001B[1;33m(\u001B[0m\u001B[1;33m**\u001B[0m\u001B[0mfeatures\u001B[0m\u001B[1;33m,\u001B[0m \u001B[0mreturn_dict\u001B[0m\u001B[1;33m=\u001B[0m\u001B[1;32mTrue\u001B[0m\u001B[1;33m)\u001B[0m\u001B[1;33m\u001B[0m\u001B[1;33m\u001B[0m\u001B[0m\n\u001B[0m\u001B[0;32m    275\u001B[0m                 \u001B[0mlogits\u001B[0m \u001B[1;33m=\u001B[0m \u001B[0mactivation_fct\u001B[0m\u001B[1;33m(\u001B[0m\u001B[0mmodel_predictions\u001B[0m\u001B[1;33m.\u001B[0m\u001B[0mlogits\u001B[0m\u001B[1;33m)\u001B[0m\u001B[1;33m\u001B[0m\u001B[1;33m\u001B[0m\u001B[0m\n\u001B[0;32m    276\u001B[0m \u001B[1;33m\u001B[0m\u001B[0m\n",
      "\u001B[1;32mc:\\users\\arnod\\pycharmprojects\\neural-retrieval-bert\\venv\\lib\\site-packages\\torch\\nn\\modules\\module.py\u001B[0m in \u001B[0;36m_call_impl\u001B[1;34m(self, *input, **kwargs)\u001B[0m\n\u001B[0;32m   1100\u001B[0m         if not (self._backward_hooks or self._forward_hooks or self._forward_pre_hooks or _global_backward_hooks\n\u001B[0;32m   1101\u001B[0m                 or _global_forward_hooks or _global_forward_pre_hooks):\n\u001B[1;32m-> 1102\u001B[1;33m             \u001B[1;32mreturn\u001B[0m \u001B[0mforward_call\u001B[0m\u001B[1;33m(\u001B[0m\u001B[1;33m*\u001B[0m\u001B[0minput\u001B[0m\u001B[1;33m,\u001B[0m \u001B[1;33m**\u001B[0m\u001B[0mkwargs\u001B[0m\u001B[1;33m)\u001B[0m\u001B[1;33m\u001B[0m\u001B[1;33m\u001B[0m\u001B[0m\n\u001B[0m\u001B[0;32m   1103\u001B[0m         \u001B[1;31m# Do not call functions when jit is used\u001B[0m\u001B[1;33m\u001B[0m\u001B[1;33m\u001B[0m\u001B[0m\n\u001B[0;32m   1104\u001B[0m         \u001B[0mfull_backward_hooks\u001B[0m\u001B[1;33m,\u001B[0m \u001B[0mnon_full_backward_hooks\u001B[0m \u001B[1;33m=\u001B[0m \u001B[1;33m[\u001B[0m\u001B[1;33m]\u001B[0m\u001B[1;33m,\u001B[0m \u001B[1;33m[\u001B[0m\u001B[1;33m]\u001B[0m\u001B[1;33m\u001B[0m\u001B[1;33m\u001B[0m\u001B[0m\n",
      "\u001B[1;32mc:\\users\\arnod\\pycharmprojects\\neural-retrieval-bert\\venv\\lib\\site-packages\\transformers\\models\\bert\\modeling_bert.py\u001B[0m in \u001B[0;36mforward\u001B[1;34m(self, input_ids, attention_mask, token_type_ids, position_ids, head_mask, inputs_embeds, labels, output_attentions, output_hidden_states, return_dict)\u001B[0m\n\u001B[0;32m   1538\u001B[0m         \u001B[0mreturn_dict\u001B[0m \u001B[1;33m=\u001B[0m \u001B[0mreturn_dict\u001B[0m \u001B[1;32mif\u001B[0m \u001B[0mreturn_dict\u001B[0m \u001B[1;32mis\u001B[0m \u001B[1;32mnot\u001B[0m \u001B[1;32mNone\u001B[0m \u001B[1;32melse\u001B[0m \u001B[0mself\u001B[0m\u001B[1;33m.\u001B[0m\u001B[0mconfig\u001B[0m\u001B[1;33m.\u001B[0m\u001B[0muse_return_dict\u001B[0m\u001B[1;33m\u001B[0m\u001B[1;33m\u001B[0m\u001B[0m\n\u001B[0;32m   1539\u001B[0m \u001B[1;33m\u001B[0m\u001B[0m\n\u001B[1;32m-> 1540\u001B[1;33m         outputs = self.bert(\n\u001B[0m\u001B[0;32m   1541\u001B[0m             \u001B[0minput_ids\u001B[0m\u001B[1;33m,\u001B[0m\u001B[1;33m\u001B[0m\u001B[1;33m\u001B[0m\u001B[0m\n\u001B[0;32m   1542\u001B[0m             \u001B[0mattention_mask\u001B[0m\u001B[1;33m=\u001B[0m\u001B[0mattention_mask\u001B[0m\u001B[1;33m,\u001B[0m\u001B[1;33m\u001B[0m\u001B[1;33m\u001B[0m\u001B[0m\n",
      "\u001B[1;32mc:\\users\\arnod\\pycharmprojects\\neural-retrieval-bert\\venv\\lib\\site-packages\\torch\\nn\\modules\\module.py\u001B[0m in \u001B[0;36m_call_impl\u001B[1;34m(self, *input, **kwargs)\u001B[0m\n\u001B[0;32m   1100\u001B[0m         if not (self._backward_hooks or self._forward_hooks or self._forward_pre_hooks or _global_backward_hooks\n\u001B[0;32m   1101\u001B[0m                 or _global_forward_hooks or _global_forward_pre_hooks):\n\u001B[1;32m-> 1102\u001B[1;33m             \u001B[1;32mreturn\u001B[0m \u001B[0mforward_call\u001B[0m\u001B[1;33m(\u001B[0m\u001B[1;33m*\u001B[0m\u001B[0minput\u001B[0m\u001B[1;33m,\u001B[0m \u001B[1;33m**\u001B[0m\u001B[0mkwargs\u001B[0m\u001B[1;33m)\u001B[0m\u001B[1;33m\u001B[0m\u001B[1;33m\u001B[0m\u001B[0m\n\u001B[0m\u001B[0;32m   1103\u001B[0m         \u001B[1;31m# Do not call functions when jit is used\u001B[0m\u001B[1;33m\u001B[0m\u001B[1;33m\u001B[0m\u001B[0m\n\u001B[0;32m   1104\u001B[0m         \u001B[0mfull_backward_hooks\u001B[0m\u001B[1;33m,\u001B[0m \u001B[0mnon_full_backward_hooks\u001B[0m \u001B[1;33m=\u001B[0m \u001B[1;33m[\u001B[0m\u001B[1;33m]\u001B[0m\u001B[1;33m,\u001B[0m \u001B[1;33m[\u001B[0m\u001B[1;33m]\u001B[0m\u001B[1;33m\u001B[0m\u001B[1;33m\u001B[0m\u001B[0m\n",
      "\u001B[1;32mc:\\users\\arnod\\pycharmprojects\\neural-retrieval-bert\\venv\\lib\\site-packages\\transformers\\models\\bert\\modeling_bert.py\u001B[0m in \u001B[0;36mforward\u001B[1;34m(self, input_ids, attention_mask, token_type_ids, position_ids, head_mask, inputs_embeds, encoder_hidden_states, encoder_attention_mask, past_key_values, use_cache, output_attentions, output_hidden_states, return_dict)\u001B[0m\n\u001B[0;32m    997\u001B[0m             \u001B[0mpast_key_values_length\u001B[0m\u001B[1;33m=\u001B[0m\u001B[0mpast_key_values_length\u001B[0m\u001B[1;33m,\u001B[0m\u001B[1;33m\u001B[0m\u001B[1;33m\u001B[0m\u001B[0m\n\u001B[0;32m    998\u001B[0m         )\n\u001B[1;32m--> 999\u001B[1;33m         encoder_outputs = self.encoder(\n\u001B[0m\u001B[0;32m   1000\u001B[0m             \u001B[0membedding_output\u001B[0m\u001B[1;33m,\u001B[0m\u001B[1;33m\u001B[0m\u001B[1;33m\u001B[0m\u001B[0m\n\u001B[0;32m   1001\u001B[0m             \u001B[0mattention_mask\u001B[0m\u001B[1;33m=\u001B[0m\u001B[0mextended_attention_mask\u001B[0m\u001B[1;33m,\u001B[0m\u001B[1;33m\u001B[0m\u001B[1;33m\u001B[0m\u001B[0m\n",
      "\u001B[1;32mc:\\users\\arnod\\pycharmprojects\\neural-retrieval-bert\\venv\\lib\\site-packages\\torch\\nn\\modules\\module.py\u001B[0m in \u001B[0;36m_call_impl\u001B[1;34m(self, *input, **kwargs)\u001B[0m\n\u001B[0;32m   1100\u001B[0m         if not (self._backward_hooks or self._forward_hooks or self._forward_pre_hooks or _global_backward_hooks\n\u001B[0;32m   1101\u001B[0m                 or _global_forward_hooks or _global_forward_pre_hooks):\n\u001B[1;32m-> 1102\u001B[1;33m             \u001B[1;32mreturn\u001B[0m \u001B[0mforward_call\u001B[0m\u001B[1;33m(\u001B[0m\u001B[1;33m*\u001B[0m\u001B[0minput\u001B[0m\u001B[1;33m,\u001B[0m \u001B[1;33m**\u001B[0m\u001B[0mkwargs\u001B[0m\u001B[1;33m)\u001B[0m\u001B[1;33m\u001B[0m\u001B[1;33m\u001B[0m\u001B[0m\n\u001B[0m\u001B[0;32m   1103\u001B[0m         \u001B[1;31m# Do not call functions when jit is used\u001B[0m\u001B[1;33m\u001B[0m\u001B[1;33m\u001B[0m\u001B[0m\n\u001B[0;32m   1104\u001B[0m         \u001B[0mfull_backward_hooks\u001B[0m\u001B[1;33m,\u001B[0m \u001B[0mnon_full_backward_hooks\u001B[0m \u001B[1;33m=\u001B[0m \u001B[1;33m[\u001B[0m\u001B[1;33m]\u001B[0m\u001B[1;33m,\u001B[0m \u001B[1;33m[\u001B[0m\u001B[1;33m]\u001B[0m\u001B[1;33m\u001B[0m\u001B[1;33m\u001B[0m\u001B[0m\n",
      "\u001B[1;32mc:\\users\\arnod\\pycharmprojects\\neural-retrieval-bert\\venv\\lib\\site-packages\\transformers\\models\\bert\\modeling_bert.py\u001B[0m in \u001B[0;36mforward\u001B[1;34m(self, hidden_states, attention_mask, head_mask, encoder_hidden_states, encoder_attention_mask, past_key_values, use_cache, output_attentions, output_hidden_states, return_dict)\u001B[0m\n\u001B[0;32m    583\u001B[0m                 )\n\u001B[0;32m    584\u001B[0m             \u001B[1;32melse\u001B[0m\u001B[1;33m:\u001B[0m\u001B[1;33m\u001B[0m\u001B[1;33m\u001B[0m\u001B[0m\n\u001B[1;32m--> 585\u001B[1;33m                 layer_outputs = layer_module(\n\u001B[0m\u001B[0;32m    586\u001B[0m                     \u001B[0mhidden_states\u001B[0m\u001B[1;33m,\u001B[0m\u001B[1;33m\u001B[0m\u001B[1;33m\u001B[0m\u001B[0m\n\u001B[0;32m    587\u001B[0m                     \u001B[0mattention_mask\u001B[0m\u001B[1;33m,\u001B[0m\u001B[1;33m\u001B[0m\u001B[1;33m\u001B[0m\u001B[0m\n",
      "\u001B[1;32mc:\\users\\arnod\\pycharmprojects\\neural-retrieval-bert\\venv\\lib\\site-packages\\torch\\nn\\modules\\module.py\u001B[0m in \u001B[0;36m_call_impl\u001B[1;34m(self, *input, **kwargs)\u001B[0m\n\u001B[0;32m   1100\u001B[0m         if not (self._backward_hooks or self._forward_hooks or self._forward_pre_hooks or _global_backward_hooks\n\u001B[0;32m   1101\u001B[0m                 or _global_forward_hooks or _global_forward_pre_hooks):\n\u001B[1;32m-> 1102\u001B[1;33m             \u001B[1;32mreturn\u001B[0m \u001B[0mforward_call\u001B[0m\u001B[1;33m(\u001B[0m\u001B[1;33m*\u001B[0m\u001B[0minput\u001B[0m\u001B[1;33m,\u001B[0m \u001B[1;33m**\u001B[0m\u001B[0mkwargs\u001B[0m\u001B[1;33m)\u001B[0m\u001B[1;33m\u001B[0m\u001B[1;33m\u001B[0m\u001B[0m\n\u001B[0m\u001B[0;32m   1103\u001B[0m         \u001B[1;31m# Do not call functions when jit is used\u001B[0m\u001B[1;33m\u001B[0m\u001B[1;33m\u001B[0m\u001B[0m\n\u001B[0;32m   1104\u001B[0m         \u001B[0mfull_backward_hooks\u001B[0m\u001B[1;33m,\u001B[0m \u001B[0mnon_full_backward_hooks\u001B[0m \u001B[1;33m=\u001B[0m \u001B[1;33m[\u001B[0m\u001B[1;33m]\u001B[0m\u001B[1;33m,\u001B[0m \u001B[1;33m[\u001B[0m\u001B[1;33m]\u001B[0m\u001B[1;33m\u001B[0m\u001B[1;33m\u001B[0m\u001B[0m\n",
      "\u001B[1;32mc:\\users\\arnod\\pycharmprojects\\neural-retrieval-bert\\venv\\lib\\site-packages\\transformers\\models\\bert\\modeling_bert.py\u001B[0m in \u001B[0;36mforward\u001B[1;34m(self, hidden_states, attention_mask, head_mask, encoder_hidden_states, encoder_attention_mask, past_key_value, output_attentions)\u001B[0m\n\u001B[0;32m    470\u001B[0m         \u001B[1;31m# decoder uni-directional self-attention cached key/values tuple is at positions 1,2\u001B[0m\u001B[1;33m\u001B[0m\u001B[1;33m\u001B[0m\u001B[0m\n\u001B[0;32m    471\u001B[0m         \u001B[0mself_attn_past_key_value\u001B[0m \u001B[1;33m=\u001B[0m \u001B[0mpast_key_value\u001B[0m\u001B[1;33m[\u001B[0m\u001B[1;33m:\u001B[0m\u001B[1;36m2\u001B[0m\u001B[1;33m]\u001B[0m \u001B[1;32mif\u001B[0m \u001B[0mpast_key_value\u001B[0m \u001B[1;32mis\u001B[0m \u001B[1;32mnot\u001B[0m \u001B[1;32mNone\u001B[0m \u001B[1;32melse\u001B[0m \u001B[1;32mNone\u001B[0m\u001B[1;33m\u001B[0m\u001B[1;33m\u001B[0m\u001B[0m\n\u001B[1;32m--> 472\u001B[1;33m         self_attention_outputs = self.attention(\n\u001B[0m\u001B[0;32m    473\u001B[0m             \u001B[0mhidden_states\u001B[0m\u001B[1;33m,\u001B[0m\u001B[1;33m\u001B[0m\u001B[1;33m\u001B[0m\u001B[0m\n\u001B[0;32m    474\u001B[0m             \u001B[0mattention_mask\u001B[0m\u001B[1;33m,\u001B[0m\u001B[1;33m\u001B[0m\u001B[1;33m\u001B[0m\u001B[0m\n",
      "\u001B[1;32mc:\\users\\arnod\\pycharmprojects\\neural-retrieval-bert\\venv\\lib\\site-packages\\torch\\nn\\modules\\module.py\u001B[0m in \u001B[0;36m_call_impl\u001B[1;34m(self, *input, **kwargs)\u001B[0m\n\u001B[0;32m   1100\u001B[0m         if not (self._backward_hooks or self._forward_hooks or self._forward_pre_hooks or _global_backward_hooks\n\u001B[0;32m   1101\u001B[0m                 or _global_forward_hooks or _global_forward_pre_hooks):\n\u001B[1;32m-> 1102\u001B[1;33m             \u001B[1;32mreturn\u001B[0m \u001B[0mforward_call\u001B[0m\u001B[1;33m(\u001B[0m\u001B[1;33m*\u001B[0m\u001B[0minput\u001B[0m\u001B[1;33m,\u001B[0m \u001B[1;33m**\u001B[0m\u001B[0mkwargs\u001B[0m\u001B[1;33m)\u001B[0m\u001B[1;33m\u001B[0m\u001B[1;33m\u001B[0m\u001B[0m\n\u001B[0m\u001B[0;32m   1103\u001B[0m         \u001B[1;31m# Do not call functions when jit is used\u001B[0m\u001B[1;33m\u001B[0m\u001B[1;33m\u001B[0m\u001B[0m\n\u001B[0;32m   1104\u001B[0m         \u001B[0mfull_backward_hooks\u001B[0m\u001B[1;33m,\u001B[0m \u001B[0mnon_full_backward_hooks\u001B[0m \u001B[1;33m=\u001B[0m \u001B[1;33m[\u001B[0m\u001B[1;33m]\u001B[0m\u001B[1;33m,\u001B[0m \u001B[1;33m[\u001B[0m\u001B[1;33m]\u001B[0m\u001B[1;33m\u001B[0m\u001B[1;33m\u001B[0m\u001B[0m\n",
      "\u001B[1;32mc:\\users\\arnod\\pycharmprojects\\neural-retrieval-bert\\venv\\lib\\site-packages\\transformers\\models\\bert\\modeling_bert.py\u001B[0m in \u001B[0;36mforward\u001B[1;34m(self, hidden_states, attention_mask, head_mask, encoder_hidden_states, encoder_attention_mask, past_key_value, output_attentions)\u001B[0m\n\u001B[0;32m    400\u001B[0m         \u001B[0moutput_attentions\u001B[0m\u001B[1;33m=\u001B[0m\u001B[1;32mFalse\u001B[0m\u001B[1;33m,\u001B[0m\u001B[1;33m\u001B[0m\u001B[1;33m\u001B[0m\u001B[0m\n\u001B[0;32m    401\u001B[0m     ):\n\u001B[1;32m--> 402\u001B[1;33m         self_outputs = self.self(\n\u001B[0m\u001B[0;32m    403\u001B[0m             \u001B[0mhidden_states\u001B[0m\u001B[1;33m,\u001B[0m\u001B[1;33m\u001B[0m\u001B[1;33m\u001B[0m\u001B[0m\n\u001B[0;32m    404\u001B[0m             \u001B[0mattention_mask\u001B[0m\u001B[1;33m,\u001B[0m\u001B[1;33m\u001B[0m\u001B[1;33m\u001B[0m\u001B[0m\n",
      "\u001B[1;32mc:\\users\\arnod\\pycharmprojects\\neural-retrieval-bert\\venv\\lib\\site-packages\\torch\\nn\\modules\\module.py\u001B[0m in \u001B[0;36m_call_impl\u001B[1;34m(self, *input, **kwargs)\u001B[0m\n\u001B[0;32m   1100\u001B[0m         if not (self._backward_hooks or self._forward_hooks or self._forward_pre_hooks or _global_backward_hooks\n\u001B[0;32m   1101\u001B[0m                 or _global_forward_hooks or _global_forward_pre_hooks):\n\u001B[1;32m-> 1102\u001B[1;33m             \u001B[1;32mreturn\u001B[0m \u001B[0mforward_call\u001B[0m\u001B[1;33m(\u001B[0m\u001B[1;33m*\u001B[0m\u001B[0minput\u001B[0m\u001B[1;33m,\u001B[0m \u001B[1;33m**\u001B[0m\u001B[0mkwargs\u001B[0m\u001B[1;33m)\u001B[0m\u001B[1;33m\u001B[0m\u001B[1;33m\u001B[0m\u001B[0m\n\u001B[0m\u001B[0;32m   1103\u001B[0m         \u001B[1;31m# Do not call functions when jit is used\u001B[0m\u001B[1;33m\u001B[0m\u001B[1;33m\u001B[0m\u001B[0m\n\u001B[0;32m   1104\u001B[0m         \u001B[0mfull_backward_hooks\u001B[0m\u001B[1;33m,\u001B[0m \u001B[0mnon_full_backward_hooks\u001B[0m \u001B[1;33m=\u001B[0m \u001B[1;33m[\u001B[0m\u001B[1;33m]\u001B[0m\u001B[1;33m,\u001B[0m \u001B[1;33m[\u001B[0m\u001B[1;33m]\u001B[0m\u001B[1;33m\u001B[0m\u001B[1;33m\u001B[0m\u001B[0m\n",
      "\u001B[1;32mc:\\users\\arnod\\pycharmprojects\\neural-retrieval-bert\\venv\\lib\\site-packages\\transformers\\models\\bert\\modeling_bert.py\u001B[0m in \u001B[0;36mforward\u001B[1;34m(self, hidden_states, attention_mask, head_mask, encoder_hidden_states, encoder_attention_mask, past_key_value, output_attentions)\u001B[0m\n\u001B[0;32m    304\u001B[0m \u001B[1;33m\u001B[0m\u001B[0m\n\u001B[0;32m    305\u001B[0m         \u001B[1;31m# Take the dot product between \"query\" and \"key\" to get the raw attention scores.\u001B[0m\u001B[1;33m\u001B[0m\u001B[1;33m\u001B[0m\u001B[0m\n\u001B[1;32m--> 306\u001B[1;33m         \u001B[0mattention_scores\u001B[0m \u001B[1;33m=\u001B[0m \u001B[0mtorch\u001B[0m\u001B[1;33m.\u001B[0m\u001B[0mmatmul\u001B[0m\u001B[1;33m(\u001B[0m\u001B[0mquery_layer\u001B[0m\u001B[1;33m,\u001B[0m \u001B[0mkey_layer\u001B[0m\u001B[1;33m.\u001B[0m\u001B[0mtranspose\u001B[0m\u001B[1;33m(\u001B[0m\u001B[1;33m-\u001B[0m\u001B[1;36m1\u001B[0m\u001B[1;33m,\u001B[0m \u001B[1;33m-\u001B[0m\u001B[1;36m2\u001B[0m\u001B[1;33m)\u001B[0m\u001B[1;33m)\u001B[0m\u001B[1;33m\u001B[0m\u001B[1;33m\u001B[0m\u001B[0m\n\u001B[0m\u001B[0;32m    307\u001B[0m \u001B[1;33m\u001B[0m\u001B[0m\n\u001B[0;32m    308\u001B[0m         \u001B[1;32mif\u001B[0m \u001B[0mself\u001B[0m\u001B[1;33m.\u001B[0m\u001B[0mposition_embedding_type\u001B[0m \u001B[1;33m==\u001B[0m \u001B[1;34m\"relative_key\"\u001B[0m \u001B[1;32mor\u001B[0m \u001B[0mself\u001B[0m\u001B[1;33m.\u001B[0m\u001B[0mposition_embedding_type\u001B[0m \u001B[1;33m==\u001B[0m \u001B[1;34m\"relative_key_query\"\u001B[0m\u001B[1;33m:\u001B[0m\u001B[1;33m\u001B[0m\u001B[1;33m\u001B[0m\u001B[0m\n",
      "\u001B[1;31mRuntimeError\u001B[0m: CUDA out of memory. Tried to allocate 50.00 MiB (GPU 0; 4.00 GiB total capacity; 2.73 GiB already allocated; 0 bytes free; 2.75 GiB reserved in total by PyTorch) If reserved memory is >> allocated memory try setting max_split_size_mb to avoid fragmentation.  See documentation for Memory Management and PYTORCH_CUDA_ALLOC_CONF"
     ]
    }
   ],
   "source": [
    "# For some reason this also doesn't solve the cuda out of memory error\n",
    "# torch.cuda.empty_cache()\n",
    "\n",
    "# The one we tried earlier\n",
    "print('ms-marco-TinyBERT-L-2-v2')\n",
    "rater.get_rating(LuceneCrossRetriever('cross-encoder/ms-marco-TinyBERT-L-2-v2'))\n",
    "\n",
    "# A more powerfull version of the Ms-Marco (but takes more time)\n",
    "print('ms-marco-MiniLM-L-12-v2')\n",
    "rater.get_rating(LuceneCrossRetriever('cross-encoder/ms-marco-MiniLM-L-12-v2'))\n",
    "\n",
    "# SQuAD - Trained for answering questions\n",
    "print('qnli-electra-base')\n",
    "rater.get_rating(LuceneCrossRetriever('cross-encoder/qnli-electra-base'))\n",
    "\n",
    "# STSbenchmark\n",
    "print('stsb-TinyBERT-L-4')\n",
    "rater.get_rating(LuceneCrossRetriever('cross-encoder/stsb-TinyBERT-L-4'))\n",
    "rater.get_rating(LuceneCrossRetriever('cross-encoder/stsb-roberta-large'))"
   ]
  },
  {
   "cell_type": "markdown",
   "metadata": {
    "pycharm": {
     "name": "#%% md\n"
    }
   },
   "source": [
    "Cuda ran out of memory with the last one, so I copy pasted the output here and reran the last rater:\n",
    "```\n",
    "ms-marco-TinyBERT-L-2-v2\n",
    "100%|██████████| 644/644 [01:35<00:00,  6.72it/s]\n",
    "Recall@10: 0.4372165532879821, Precision@10: 0.4341614906832301\n",
    "ms-marco-MiniLM-L-12-v2'\n",
    "100%|██████████| 644/644 [11:33<00:00,  1.08s/it]\n",
    "Recall@10: 0.4507622251799272, Precision@10: 0.4478260869565217\n",
    "qnli-electra-base\n",
    "100%|██████████| 644/644 [34:20<00:00,  3.20s/it]\n",
    "Recall@10: 0.36328564034309485, Precision@10: 0.3605590062111812\n",
    "stsb-TinyBERT-L-4\n",
    "100%|██████████| 644/644 [03:28<00:00,  3.09it/s]\n",
    "Recall@10: 0.33324028886917134, Precision@10: 0.33090062111801294\n",
    "  0%|          | 1/644 [00:06<1:11:40,  6.69s/it]\n",
    " ---------------------------------------------------------------------------\n",
    "\n",
    "RuntimeError                              Traceback (most recent call last)\n",
    " ```\n",
    "The last one keeps giving an out of memory error, but since the other STSB Cross-Encoder didn't give that good results, I won't spend more time on trying to fix it (since I already wasted quite some time trying to fix this).\n",
    "\n",
    "## Overview LuceneCrossRetriever\n",
    "\n",
    "| Name                                    | Recall@10 | Precission@10 | Time       |\n",
    "|-----------------------------------------|-----------|---------------|------------|\n",
    "| LuceneRetriever                         | 0.49958   | 0.49642       | 431.44it/s |\n",
    "| BiCrossRetriever (MsMarco)              | 0.24137   | 0.30258       | 1.62it/s   |\n",
    "| LuceneCrossRetriever (MsMarco-TinyBERT) | 0.43721   | 0.43416       | 6.72it/s   |\n",
    "| LuceneCrossRetriever (MsMarco-MiniLM)   | 0.45076   | 0.44782       | 1.08s/it   |\n",
    "| LuceneCrossRetriever (QNLI)             | 0.36328   | 0.36055       | 3.20s/it   |\n",
    "| LuceneCrossRetriever (STSB-TinyBERT)    | 0.33324   | 0.33090       | 3.09it/s   |\n",
    "| LuceneCrossRetriever (STSB-Roberta)     | ERROR     | ERROR         | ERROR      |\n",
    "\n",
    "The original LuceneRetriver remains the best one. Based on those results, I select the MsMarco-TinyBERT pretrained model to train further.\n",
    "The MsMarco-MiniLM is slightly better, but the 6x speed difference is not worth it.\n",
    "\n",
    "## Training\n",
    "I currently only used pretrained models, without training themselves further.\n",
    "Let's try the same training as in `experiments.ipynb`.\n",
    "Since our final task is to re-rank the (small number of) results in the test dataset (and because the LuceneRetriever scored better than the BiCrossRetriever), it wouldn't be really usefull to train a bi-encoder, but we can immediately try to train a cross-encoder."
   ]
  },
  {
   "cell_type": "code",
   "execution_count": 35,
   "metadata": {
    "pycharm": {
     "name": "#%%\n"
    }
   },
   "outputs": [],
   "source": [
    "# This was some code to try to get my GPU to work (which is quite important for faster training)\n",
    "# updating my cuda driver, installing pytorch accoording to their site https://pytorch.org/ and restarting my computer solved this after a lot of struggling\n",
    "\n",
    "# import os\n",
    "# os.environ[\"CUDA_VISIBLE_DEVICES\"] = \"0,1,2\" # Since GPU 0 won't work on my laptop\n",
    "# import torch\n",
    "# available_gpus = [torch.cuda.device(i) for i in range(torch.cuda.device_count())]\n",
    "# available_gpus"
   ]
  },
  {
   "cell_type": "code",
   "execution_count": 43,
   "metadata": {
    "pycharm": {
     "name": "#%%\n"
    }
   },
   "outputs": [],
   "source": [
    "all_training = pd.read_csv(\"data/training_data.csv\")\n",
    "\n",
    "# Use 80% of the training dataset as training data, the other 20% is validation data\n",
    "# We can't use the dev_data.csv for our evaluator, since this dataset will already be used for testing\n",
    "# src: https://stackoverflow.com/questions/24147278/how-do-i-create-test-and-train-samples-from-one-dataframe-with-pandas\n",
    "train_data = all_training.sample(frac=0.8, random_state=0)  #random state is a seed value\n",
    "dev_data = all_training.drop(train_data.index)"
   ]
  },
  {
   "cell_type": "code",
   "execution_count": 20,
   "metadata": {
    "pycharm": {
     "name": "#%%\n"
    }
   },
   "outputs": [
    {
     "name": "stderr",
     "output_type": "stream",
     "text": [
      "100%|██████████| 112000/112000 [00:04<00:00, 25212.32it/s]\n",
      "100%|██████████| 28000/28000 [00:01<00:00, 25201.77it/s]\n"
     ]
    }
   ],
   "source": [
    "from sentence_transformers import InputExample\n",
    "\n",
    "\n",
    "def get_sample_list(df):\n",
    "    samples = []\n",
    "    for index, row in tqdm(df.iterrows(), total=df.shape[0]):\n",
    "        query = str(row['Query'])\n",
    "        doc_text = str(row['doc_text'])\n",
    "\n",
    "        label = float(row['label'])\n",
    "\n",
    "        inp_example = InputExample(texts=[query, doc_text], label=label)\n",
    "\n",
    "        samples.append(inp_example)\n",
    "    return samples\n",
    "\n",
    "\n",
    "train_samples = get_sample_list(train_data)\n",
    "dev_samples = get_sample_list(dev_data)"
   ]
  },
  {
   "cell_type": "code",
   "execution_count": 44,
   "metadata": {
    "pycharm": {
     "name": "#%%\n"
    }
   },
   "outputs": [
    {
     "name": "stdout",
     "output_type": "stream",
     "text": [
      "2022-01-02 17:06:26 - Load pretrained SentenceTransformer: cross-encoder/ms-marco-TinyBERT-L-2-v2\n"
     ]
    },
    {
     "name": "stderr",
     "output_type": "stream",
     "text": [
      "Some weights of the model checkpoint at C:\\Users\\arnod/.cache\\torch\\sentence_transformers\\cross-encoder_ms-marco-TinyBERT-L-2-v2 were not used when initializing BertModel: ['classifier.bias', 'classifier.weight']\n",
      "- This IS expected if you are initializing BertModel from the checkpoint of a model trained on another task or with another architecture (e.g. initializing a BertForSequenceClassification model from a BertForPreTraining model).\n",
      "- This IS NOT expected if you are initializing BertModel from the checkpoint of a model that you expect to be exactly identical (initializing a BertForSequenceClassification model from a BertForSequenceClassification model).\n"
     ]
    },
    {
     "name": "stdout",
     "output_type": "stream",
     "text": [
      "2022-01-02 17:06:30 - No sentence-transformers model found with name C:\\Users\\arnod/.cache\\torch\\sentence_transformers\\cross-encoder_ms-marco-TinyBERT-L-2-v2. Creating a new one with MEAN pooling.\n",
      "2022-01-02 17:06:30 - Use pytorch device: cuda\n",
      "2022-01-02 17:06:30 - Read the train dataset\n",
      "2022-01-02 17:06:30 - Read dev dataset\n",
      "2022-01-02 17:06:30 - Warmup-steps: 2800\n"
     ]
    },
    {
     "data": {
      "application/vnd.jupyter.widget-view+json": {
       "model_id": "090d2503b2ab442dbc270499c142bf10",
       "version_major": 2,
       "version_minor": 0
      },
      "text/plain": [
       "Epoch:   0%|          | 0/4 [00:00<?, ?it/s]"
      ]
     },
     "metadata": {},
     "output_type": "display_data"
    },
    {
     "data": {
      "application/vnd.jupyter.widget-view+json": {
       "model_id": "fd470fd85838441fb7fb6b652bbffcaa",
       "version_major": 2,
       "version_minor": 0
      },
      "text/plain": [
       "Iteration:   0%|          | 0/7000 [00:00<?, ?it/s]"
      ]
     },
     "metadata": {},
     "output_type": "display_data"
    },
    {
     "name": "stdout",
     "output_type": "stream",
     "text": [
      "2022-01-02 17:28:31 - EmbeddingSimilarityEvaluator: Evaluating the model on ms-marco dataset after epoch 0:\n",
      "2022-01-02 17:32:33 - Cosine-Similarity :\tPearson: 0.2840\tSpearman: 0.2783\n",
      "2022-01-02 17:32:33 - Manhattan-Distance:\tPearson: 0.2704\tSpearman: 0.2648\n",
      "2022-01-02 17:32:33 - Euclidean-Distance:\tPearson: 0.2760\tSpearman: 0.2707\n",
      "2022-01-02 17:32:33 - Dot-Product-Similarity:\tPearson: 0.2749\tSpearman: 0.2686\n",
      "2022-01-02 17:32:33 - Save model to output/training-cross-encoder/ms-marco-TinyBERT-L-2-v2-b16e4\n"
     ]
    },
    {
     "data": {
      "application/vnd.jupyter.widget-view+json": {
       "model_id": "e5cc63a2edc340b2b3f4daae3e9eebe1",
       "version_major": 2,
       "version_minor": 0
      },
      "text/plain": [
       "Iteration:   0%|          | 0/7000 [00:00<?, ?it/s]"
      ]
     },
     "metadata": {},
     "output_type": "display_data"
    },
    {
     "name": "stdout",
     "output_type": "stream",
     "text": [
      "2022-01-02 17:53:57 - EmbeddingSimilarityEvaluator: Evaluating the model on ms-marco dataset after epoch 1:\n",
      "2022-01-02 17:59:55 - Cosine-Similarity :\tPearson: 0.3307\tSpearman: 0.3259\n",
      "2022-01-02 17:59:55 - Manhattan-Distance:\tPearson: 0.3180\tSpearman: 0.3128\n",
      "2022-01-02 17:59:55 - Euclidean-Distance:\tPearson: 0.3233\tSpearman: 0.3174\n",
      "2022-01-02 17:59:55 - Dot-Product-Similarity:\tPearson: 0.3143\tSpearman: 0.3082\n",
      "2022-01-02 17:59:55 - Save model to output/training-cross-encoder/ms-marco-TinyBERT-L-2-v2-b16e4\n"
     ]
    },
    {
     "data": {
      "application/vnd.jupyter.widget-view+json": {
       "model_id": "637c051837be4d04b84cb7ef1ccf8fc8",
       "version_major": 2,
       "version_minor": 0
      },
      "text/plain": [
       "Iteration:   0%|          | 0/7000 [00:00<?, ?it/s]"
      ]
     },
     "metadata": {},
     "output_type": "display_data"
    },
    {
     "name": "stdout",
     "output_type": "stream",
     "text": [
      "2022-01-02 18:19:48 - EmbeddingSimilarityEvaluator: Evaluating the model on ms-marco dataset after epoch 2:\n",
      "2022-01-02 18:23:05 - Cosine-Similarity :\tPearson: 0.3451\tSpearman: 0.3415\n",
      "2022-01-02 18:23:05 - Manhattan-Distance:\tPearson: 0.3336\tSpearman: 0.3279\n",
      "2022-01-02 18:23:05 - Euclidean-Distance:\tPearson: 0.3384\tSpearman: 0.3320\n",
      "2022-01-02 18:23:05 - Dot-Product-Similarity:\tPearson: 0.3342\tSpearman: 0.3291\n",
      "2022-01-02 18:23:05 - Save model to output/training-cross-encoder/ms-marco-TinyBERT-L-2-v2-b16e4\n"
     ]
    },
    {
     "data": {
      "application/vnd.jupyter.widget-view+json": {
       "model_id": "4416a277ab624e989ffc543b36eea8dc",
       "version_major": 2,
       "version_minor": 0
      },
      "text/plain": [
       "Iteration:   0%|          | 0/7000 [00:00<?, ?it/s]"
      ]
     },
     "metadata": {},
     "output_type": "display_data"
    },
    {
     "name": "stdout",
     "output_type": "stream",
     "text": [
      "2022-01-02 18:42:08 - EmbeddingSimilarityEvaluator: Evaluating the model on ms-marco dataset after epoch 3:\n",
      "2022-01-02 18:45:37 - Cosine-Similarity :\tPearson: 0.3496\tSpearman: 0.3469\n",
      "2022-01-02 18:45:37 - Manhattan-Distance:\tPearson: 0.3398\tSpearman: 0.3344\n",
      "2022-01-02 18:45:37 - Euclidean-Distance:\tPearson: 0.3438\tSpearman: 0.3379\n",
      "2022-01-02 18:45:37 - Dot-Product-Similarity:\tPearson: 0.3404\tSpearman: 0.3361\n",
      "2022-01-02 18:45:37 - Save model to output/training-cross-encoder/ms-marco-TinyBERT-L-2-v2-b16e4\n"
     ]
    },
    {
     "ename": "TypeError",
     "evalue": "__init__() takes 1 positional argument but 2 were given",
     "output_type": "error",
     "traceback": [
      "\u001B[1;31m---------------------------------------------------------------------------\u001B[0m",
      "\u001B[1;31mTypeError\u001B[0m                                 Traceback (most recent call last)",
      "\u001B[1;32m~\\AppData\\Local\\Temp/ipykernel_19608/1001096373.py\u001B[0m in \u001B[0;36m<module>\u001B[1;34m\u001B[0m\n\u001B[0;32m     49\u001B[0m \u001B[1;33m\u001B[0m\u001B[0m\n\u001B[0;32m     50\u001B[0m \u001B[1;31m# Training done, now evaluate the model\u001B[0m\u001B[1;33m\u001B[0m\u001B[1;33m\u001B[0m\u001B[0m\n\u001B[1;32m---> 51\u001B[1;33m \u001B[0mluceneCrossRetriever\u001B[0m \u001B[1;33m=\u001B[0m \u001B[0mLuceneCrossRetriever\u001B[0m\u001B[1;33m(\u001B[0m\u001B[0mmodel_save_path\u001B[0m\u001B[1;33m)\u001B[0m\u001B[1;33m\u001B[0m\u001B[1;33m\u001B[0m\u001B[0m\n\u001B[0m\u001B[0;32m     52\u001B[0m \u001B[0mrecall\u001B[0m\u001B[1;33m,\u001B[0m \u001B[0mprecision\u001B[0m \u001B[1;33m=\u001B[0m \u001B[0mrater\u001B[0m\u001B[1;33m.\u001B[0m\u001B[0mget_rating\u001B[0m\u001B[1;33m(\u001B[0m\u001B[0mluceneCrossRetriever\u001B[0m\u001B[1;33m)\u001B[0m\u001B[1;33m\u001B[0m\u001B[1;33m\u001B[0m\u001B[0m\n",
      "\u001B[1;31mTypeError\u001B[0m: __init__() takes 1 positional argument but 2 were given"
     ]
    }
   ],
   "source": [
    "import torch\n",
    "from torch.utils.data import DataLoader\n",
    "import math\n",
    "from sentence_transformers import SentenceTransformer, LoggingHandler, losses, util, InputExample\n",
    "from sentence_transformers.evaluation import EmbeddingSimilarityEvaluator\n",
    "import logging\n",
    "from datetime import datetime\n",
    "import os\n",
    "\n",
    "from sentence_transformers import InputExample\n",
    "import pandas as pd\n",
    "\n",
    "# Code to print debug information to stdout\n",
    "logging.basicConfig(format='%(asctime)s - %(message)s',\n",
    "                    datefmt='%Y-%m-%d %H:%M:%S',\n",
    "                    level=logging.INFO,\n",
    "                    handlers=[LoggingHandler()])\n",
    "\n",
    "\n",
    "def train_model(train_samples, dev_samples, model_name, train_batch_size, num_epochs, model_save_path):\n",
    "    # Load a pre-trained sentence transformer model\n",
    "    model = SentenceTransformer(model_name)\n",
    "\n",
    "    train_dataloader = DataLoader(train_samples, shuffle=True, batch_size=train_batch_size)\n",
    "\n",
    "    train_loss = losses.CosineSimilarityLoss(model=model)\n",
    "\n",
    "    evaluator = EmbeddingSimilarityEvaluator.from_input_examples(dev_samples, name='ms-marco')\n",
    "\n",
    "    # Configure the training. We skip evaluation in this example\n",
    "    warmup_steps = math.ceil(len(train_dataloader) * num_epochs * 0.1)  #10% of train data for warm-up\n",
    "    logging.info(\"Warmup-steps: {}\".format(warmup_steps))\n",
    "\n",
    "    # Train the model\n",
    "    model.fit(train_objectives=[(train_dataloader, train_loss)],\n",
    "              evaluator=evaluator,\n",
    "              epochs=num_epochs,\n",
    "              warmup_steps=warmup_steps,\n",
    "              output_path=model_save_path)"
   ]
  },
  {
   "cell_type": "code",
   "execution_count": 14,
   "metadata": {
    "pycharm": {
     "name": "#%%\n"
    }
   },
   "outputs": [
    {
     "name": "stderr",
     "output_type": "stream",
     "text": [
      "Some weights of BertForSequenceClassification were not initialized from the model checkpoint at output/training-cross-encoder/ms-marco-TinyBERT-L-2-v2-b16e4 and are newly initialized: ['classifier.weight', 'classifier.bias']\n",
      "You should probably TRAIN this model on a down-stream task to be able to use it for predictions and inference.\n"
     ]
    },
    {
     "name": "stdout",
     "output_type": "stream",
     "text": [
      "Evaluating again, since error after training\n",
      "Calculating score\n"
     ]
    },
    {
     "name": "stderr",
     "output_type": "stream",
     "text": [
      "100%|██████████| 644/644 [01:18<00:00,  8.16it/s]"
     ]
    },
    {
     "name": "stdout",
     "output_type": "stream",
     "text": [
      "Recall@10: 0.2834966232869955, Precision@10: 0.28121118012422314\n"
     ]
    },
    {
     "name": "stderr",
     "output_type": "stream",
     "text": [
      "\n"
     ]
    }
   ],
   "source": [
    "model_name = 'cross-encoder/ms-marco-TinyBERT-L-2-v2'\n",
    "train_batch_size = 16\n",
    "num_epochs = 4\n",
    "model_save_path = f'output/training-{model_name}-b{train_batch_size}e{num_epochs}'\n",
    "\n",
    "train_model(train_samples, dev_samples, model_name, train_batch_size, num_epochs, model_save_path)\n",
    "\n",
    "# Training done, now evaluate the model\n",
    "print(\"Evaluating again, since error after training\")\n",
    "luceneCrossRetriever = LuceneCrossRetriever(model_save_path)\n",
    "print(\"Calculating score\")\n",
    "recall, precision = rater.get_rating(luceneCrossRetriever)"
   ]
  },
  {
   "cell_type": "markdown",
   "metadata": {
    "pycharm": {
     "name": "#%% md\n"
    }
   },
   "source": [
    "Here is an overview:\n",
    "\n",
    "| Name                         | Recall@10 | Precission@10 |\n",
    "|------------------------------|-----------|---------------|\n",
    "| LuceneRetriever              | 0.49958   | 0.49642       |\n",
    "| BiCrossRetriever (MsMarco)   | 0.25137   | 0.30258       |\n",
    "| LuceneCrossRetriever         | 0.43721   | 0.43416       |\n",
    "| Trained LuceneCrossRetriever Attempt 1 | 0.28349   | 0.28121       |\n",
    "\n",
    "## Better attempt?\n",
    "The training makes it even worse (which is very strange). This is probably because I just used a standard losses function instead of searching one for our specific use case.\n",
    "As mentioned multiple times in the documentation, there is no One-Size-Fits-All loss-function, but the loss function I used was clearly one that wasn't inteded for a cross-encoder.\n",
    "To find the right function, I took a look at the [losses documentation](https://www.sbert.net/docs/package_reference/losses.html), but here wasn't anything explicitly mentioned for training cross-encoder. However, there were some training examples on the [Cross-Encoders page](https://www.sbert.net/examples/training/cross-encoder/README.html).\n",
    "By looking at [one of the examples](https://github.com/UKPLab/sentence-transformers/blob/master/examples/training/cross-encoder/training_stsbenchmark.py), the main difference was the evaluator and they didn't provide any loss function, so let's also try to do that. I also used a SentenceTransformer as model instead of a CrossEncoder, so I made quite some mistakes that might declare the worse results."
   ]
  },
  {
   "cell_type": "code",
   "execution_count": 23,
   "metadata": {
    "pycharm": {
     "name": "#%%\n"
    }
   },
   "outputs": [
    {
     "name": "stderr",
     "output_type": "stream",
     "text": [
      "100%|██████████| 112000/112000 [00:04<00:00, 25729.38it/s]\n",
      "100%|██████████| 28000/28000 [00:01<00:00, 23608.08it/s]\n"
     ]
    },
    {
     "data": {
      "application/vnd.jupyter.widget-view+json": {
       "model_id": "5764b0773d9b48aa82fe3a0aa32c4383",
       "version_major": 2,
       "version_minor": 0
      },
      "text/plain": [
       "Epoch:   0%|          | 0/4 [00:00<?, ?it/s]"
      ]
     },
     "metadata": {},
     "output_type": "display_data"
    },
    {
     "data": {
      "application/vnd.jupyter.widget-view+json": {
       "model_id": "c68b33edc5894b638252358135ddfde5",
       "version_major": 2,
       "version_minor": 0
      },
      "text/plain": [
       "Iteration:   0%|          | 0/7000 [00:00<?, ?it/s]"
      ]
     },
     "metadata": {},
     "output_type": "display_data"
    },
    {
     "data": {
      "application/vnd.jupyter.widget-view+json": {
       "model_id": "8978d7828ea14b9a8ac223f9de57e1d7",
       "version_major": 2,
       "version_minor": 0
      },
      "text/plain": [
       "Iteration:   0%|          | 0/7000 [00:00<?, ?it/s]"
      ]
     },
     "metadata": {},
     "output_type": "display_data"
    },
    {
     "data": {
      "application/vnd.jupyter.widget-view+json": {
       "model_id": "ba029a8c934b4554928a145f7bd48c39",
       "version_major": 2,
       "version_minor": 0
      },
      "text/plain": [
       "Iteration:   0%|          | 0/7000 [00:00<?, ?it/s]"
      ]
     },
     "metadata": {},
     "output_type": "display_data"
    },
    {
     "data": {
      "application/vnd.jupyter.widget-view+json": {
       "model_id": "8b5384a98bfb46559c7329917f8c4992",
       "version_major": 2,
       "version_minor": 0
      },
      "text/plain": [
       "Iteration:   0%|          | 0/7000 [00:00<?, ?it/s]"
      ]
     },
     "metadata": {},
     "output_type": "display_data"
    },
    {
     "name": "stderr",
     "output_type": "stream",
     "text": [
      "100%|██████████| 644/644 [01:38<00:00,  6.56it/s]"
     ]
    },
    {
     "name": "stdout",
     "output_type": "stream",
     "text": [
      "Recall@10: 0.5427265108942125, Precision@10: 0.5392857142857139\n"
     ]
    },
    {
     "name": "stderr",
     "output_type": "stream",
     "text": [
      "\n"
     ]
    }
   ],
   "source": [
    "from sentence_transformers.cross_encoder.evaluation import CECorrelationEvaluator\n",
    "from torch.utils.data import DataLoader\n",
    "import math\n",
    "\n",
    "# For some reason, I can't reuse a sample list, so let's generate it again\n",
    "train_samples = get_sample_list(train_data)\n",
    "dev_samples = get_sample_list(dev_data)\n",
    "\n",
    "model_name = 'cross-encoder/ms-marco-TinyBERT-L-2-v2'\n",
    "train_batch_size = 16\n",
    "num_epochs = 4\n",
    "model_save_path = f'output/training-{model_name}-b{train_batch_size}e{num_epochs}'\n",
    "\n",
    "model = CrossEncoder(model_name)\n",
    "train_dataloader = DataLoader(train_samples, shuffle=True, batch_size=train_batch_size)\n",
    "evaluator = CECorrelationEvaluator.from_input_examples(dev_samples, name='ms-marco-attempt-2')\n",
    "warmup_steps = math.ceil(len(train_dataloader) * num_epochs * 0.1)\n",
    "\n",
    "model.fit(train_dataloader=train_dataloader,\n",
    "          evaluator=evaluator,\n",
    "          epochs=num_epochs,\n",
    "          warmup_steps=warmup_steps,\n",
    "          output_path=model_save_path)\n",
    "\n",
    "# Training done, now evaluate the model\n",
    "luceneCrossRetriever = LuceneCrossRetriever(model_save_path)\n",
    "recall, precision = rater.get_rating(luceneCrossRetriever)"
   ]
  },
  {
   "cell_type": "markdown",
   "metadata": {},
   "source": [
    "Finally, the results are getting better than Lucene :-) (That smiley is my happy face once I saw those results)\n",
    "We're now having a recall of 0.54272 and a Precision of 0.53928. Let's try some more epochs to see if things are improving that way.\n",
    "\n",
    "There is also an entire `sentence_transformers.cross_encoder.evaluation` file.\n",
    "When searching for the documentation of this file, I noticed that the documentation of the cross_encoder evaluators were listed on [another page in the documentation](https://www.sbert.net/docs/package_reference/cross_encoder.html).\n",
    "\n",
    "On this documentation page, I found that there was a CERerankingEvaluator, which is exactly the evaluator we need.\n",
    "\n",
    "We now try more epochs and use the CERerankingEvaluator to see the evolution."
   ]
  },
  {
   "cell_type": "code",
   "execution_count": 26,
   "metadata": {
    "pycharm": {
     "name": "#%%\n"
    }
   },
   "outputs": [
    {
     "name": "stderr",
     "output_type": "stream",
     "text": [
      "100%|██████████| 112000/112000 [00:04<00:00, 23798.97it/s]\n",
      "100%|██████████| 28000/28000 [00:01<00:00, 25827.72it/s]\n"
     ]
    },
    {
     "data": {
      "application/vnd.jupyter.widget-view+json": {
       "model_id": "22e202fa028b48c694377a4184552ef8",
       "version_major": 2,
       "version_minor": 0
      },
      "text/plain": [
       "Epoch:   0%|          | 0/20 [00:00<?, ?it/s]"
      ]
     },
     "metadata": {},
     "output_type": "display_data"
    },
    {
     "data": {
      "application/vnd.jupyter.widget-view+json": {
       "model_id": "b67b46f3c0ee44d1982eabdac244ee97",
       "version_major": 2,
       "version_minor": 0
      },
      "text/plain": [
       "Iteration:   0%|          | 0/7000 [00:00<?, ?it/s]"
      ]
     },
     "metadata": {},
     "output_type": "display_data"
    },
    {
     "data": {
      "application/vnd.jupyter.widget-view+json": {
       "model_id": "99d99c28c7ca470eb20da51eb28f0f50",
       "version_major": 2,
       "version_minor": 0
      },
      "text/plain": [
       "Iteration:   0%|          | 0/7000 [00:00<?, ?it/s]"
      ]
     },
     "metadata": {},
     "output_type": "display_data"
    },
    {
     "data": {
      "application/vnd.jupyter.widget-view+json": {
       "model_id": "29dc413fcce14a31bd3f163f906a8733",
       "version_major": 2,
       "version_minor": 0
      },
      "text/plain": [
       "Iteration:   0%|          | 0/7000 [00:00<?, ?it/s]"
      ]
     },
     "metadata": {},
     "output_type": "display_data"
    },
    {
     "data": {
      "application/vnd.jupyter.widget-view+json": {
       "model_id": "ea5935680501404db0535718337ede16",
       "version_major": 2,
       "version_minor": 0
      },
      "text/plain": [
       "Iteration:   0%|          | 0/7000 [00:00<?, ?it/s]"
      ]
     },
     "metadata": {},
     "output_type": "display_data"
    },
    {
     "data": {
      "application/vnd.jupyter.widget-view+json": {
       "model_id": "0766cb50003a4be9b32110dc9e671cc5",
       "version_major": 2,
       "version_minor": 0
      },
      "text/plain": [
       "Iteration:   0%|          | 0/7000 [00:00<?, ?it/s]"
      ]
     },
     "metadata": {},
     "output_type": "display_data"
    },
    {
     "data": {
      "application/vnd.jupyter.widget-view+json": {
       "model_id": "e32a2a2aef7f40aaaceb984d96d856a8",
       "version_major": 2,
       "version_minor": 0
      },
      "text/plain": [
       "Iteration:   0%|          | 0/7000 [00:00<?, ?it/s]"
      ]
     },
     "metadata": {},
     "output_type": "display_data"
    },
    {
     "data": {
      "application/vnd.jupyter.widget-view+json": {
       "model_id": "807a760ce53741f0bf828957fcfbaf65",
       "version_major": 2,
       "version_minor": 0
      },
      "text/plain": [
       "Iteration:   0%|          | 0/7000 [00:00<?, ?it/s]"
      ]
     },
     "metadata": {},
     "output_type": "display_data"
    },
    {
     "data": {
      "application/vnd.jupyter.widget-view+json": {
       "model_id": "9394fc301d8d4d73b8652e9183f1c80a",
       "version_major": 2,
       "version_minor": 0
      },
      "text/plain": [
       "Iteration:   0%|          | 0/7000 [00:00<?, ?it/s]"
      ]
     },
     "metadata": {},
     "output_type": "display_data"
    },
    {
     "data": {
      "application/vnd.jupyter.widget-view+json": {
       "model_id": "45cddf8d37964079b86aecce25487bbe",
       "version_major": 2,
       "version_minor": 0
      },
      "text/plain": [
       "Iteration:   0%|          | 0/7000 [00:00<?, ?it/s]"
      ]
     },
     "metadata": {},
     "output_type": "display_data"
    },
    {
     "data": {
      "application/vnd.jupyter.widget-view+json": {
       "model_id": "8e89f710823e40029d2fc7b1a56d8323",
       "version_major": 2,
       "version_minor": 0
      },
      "text/plain": [
       "Iteration:   0%|          | 0/7000 [00:00<?, ?it/s]"
      ]
     },
     "metadata": {},
     "output_type": "display_data"
    },
    {
     "data": {
      "application/vnd.jupyter.widget-view+json": {
       "model_id": "2a6b917d10234a85a65f059457086f00",
       "version_major": 2,
       "version_minor": 0
      },
      "text/plain": [
       "Iteration:   0%|          | 0/7000 [00:00<?, ?it/s]"
      ]
     },
     "metadata": {},
     "output_type": "display_data"
    },
    {
     "data": {
      "application/vnd.jupyter.widget-view+json": {
       "model_id": "d561ea7ae62c4582a74f53ae76e46ce3",
       "version_major": 2,
       "version_minor": 0
      },
      "text/plain": [
       "Iteration:   0%|          | 0/7000 [00:00<?, ?it/s]"
      ]
     },
     "metadata": {},
     "output_type": "display_data"
    },
    {
     "data": {
      "application/vnd.jupyter.widget-view+json": {
       "model_id": "82537e2626d1492b86edc331578a0c88",
       "version_major": 2,
       "version_minor": 0
      },
      "text/plain": [
       "Iteration:   0%|          | 0/7000 [00:00<?, ?it/s]"
      ]
     },
     "metadata": {},
     "output_type": "display_data"
    },
    {
     "data": {
      "application/vnd.jupyter.widget-view+json": {
       "model_id": "3771b828e723480b8968ccf214b1d3b8",
       "version_major": 2,
       "version_minor": 0
      },
      "text/plain": [
       "Iteration:   0%|          | 0/7000 [00:00<?, ?it/s]"
      ]
     },
     "metadata": {},
     "output_type": "display_data"
    },
    {
     "data": {
      "application/vnd.jupyter.widget-view+json": {
       "model_id": "b0851409105649ce9f8c47be0161d635",
       "version_major": 2,
       "version_minor": 0
      },
      "text/plain": [
       "Iteration:   0%|          | 0/7000 [00:00<?, ?it/s]"
      ]
     },
     "metadata": {},
     "output_type": "display_data"
    },
    {
     "data": {
      "application/vnd.jupyter.widget-view+json": {
       "model_id": "ac281369c7914e43a7fe64f52ed030f8",
       "version_major": 2,
       "version_minor": 0
      },
      "text/plain": [
       "Iteration:   0%|          | 0/7000 [00:00<?, ?it/s]"
      ]
     },
     "metadata": {},
     "output_type": "display_data"
    },
    {
     "data": {
      "application/vnd.jupyter.widget-view+json": {
       "model_id": "d0696c6813c4442eb136b3572bd7c9d2",
       "version_major": 2,
       "version_minor": 0
      },
      "text/plain": [
       "Iteration:   0%|          | 0/7000 [00:00<?, ?it/s]"
      ]
     },
     "metadata": {},
     "output_type": "display_data"
    },
    {
     "data": {
      "application/vnd.jupyter.widget-view+json": {
       "model_id": "15553e16dae44acda5d2792a6abdc4a4",
       "version_major": 2,
       "version_minor": 0
      },
      "text/plain": [
       "Iteration:   0%|          | 0/7000 [00:00<?, ?it/s]"
      ]
     },
     "metadata": {},
     "output_type": "display_data"
    },
    {
     "data": {
      "application/vnd.jupyter.widget-view+json": {
       "model_id": "7810b868a44846cfa93472443db7c963",
       "version_major": 2,
       "version_minor": 0
      },
      "text/plain": [
       "Iteration:   0%|          | 0/7000 [00:00<?, ?it/s]"
      ]
     },
     "metadata": {},
     "output_type": "display_data"
    },
    {
     "data": {
      "application/vnd.jupyter.widget-view+json": {
       "model_id": "ccae2c3847e94cf2bca8475ee1c3becb",
       "version_major": 2,
       "version_minor": 0
      },
      "text/plain": [
       "Iteration:   0%|          | 0/7000 [00:00<?, ?it/s]"
      ]
     },
     "metadata": {},
     "output_type": "display_data"
    },
    {
     "name": "stderr",
     "output_type": "stream",
     "text": [
      "100%|██████████| 644/644 [01:27<00:00,  7.35it/s]"
     ]
    },
    {
     "name": "stdout",
     "output_type": "stream",
     "text": [
      "Recall@10: 0.5391051710539284, Precision@10: 0.5357142857142855\n"
     ]
    },
    {
     "name": "stderr",
     "output_type": "stream",
     "text": [
      "\n"
     ]
    }
   ],
   "source": [
    "from sentence_transformers.cross_encoder.evaluation import CERerankingEvaluator\n",
    "from torch.utils.data import DataLoader\n",
    "import math\n",
    "\n",
    "\n",
    "def get_reranking_samples(df):\n",
    "    samples = []\n",
    "    previous_query = None\n",
    "    positive = []\n",
    "    negative = []\n",
    "    for index, row in tqdm(df.iterrows(), total=df.shape[0]):\n",
    "        query = str(row['Query'])\n",
    "        if query != previous_query and previous_query is not None:\n",
    "            samples.append({'query': query, 'positive': positive[:], 'negative': negative[:]})\n",
    "            positive = []\n",
    "            negative = []\n",
    "        doc_text = str(row['doc_text'])\n",
    "        label = float(row['label'])\n",
    "        if label == 1.0:\n",
    "            positive.append(doc_text)\n",
    "        else:\n",
    "            negative.append(doc_text)\n",
    "        previous_query = query\n",
    "    return samples\n",
    "\n",
    "\n",
    "train_samples = get_sample_list(train_data)\n",
    "dev_samples = get_reranking_samples(dev_data)\n",
    "\n",
    "model_name = 'cross-encoder/ms-marco-TinyBERT-L-2-v2'\n",
    "train_batch_size = 16\n",
    "num_epochs = 20\n",
    "model_save_path = f'output/training-{model_name}-b{train_batch_size}e{num_epochs}-attempt3'\n",
    "\n",
    "model = CrossEncoder(model_name, num_labels=1)\n",
    "train_dataloader = DataLoader(train_samples, shuffle=True, batch_size=train_batch_size)\n",
    "evaluator = CERerankingEvaluator(dev_samples, name='ms-marco-attempt-3')\n",
    "warmup_steps = math.ceil(len(train_dataloader) * num_epochs * 0.1)\n",
    "\n",
    "model.fit(train_dataloader=train_dataloader,\n",
    "          evaluator=evaluator,\n",
    "          epochs=num_epochs,\n",
    "          warmup_steps=warmup_steps,\n",
    "          output_path=model_save_path)\n",
    "\n",
    "# Training done, now evaluate the model\n",
    "luceneCrossRetriever = LuceneCrossRetriever(model_save_path)\n",
    "recall, precision = rater.get_rating(luceneCrossRetriever)"
   ]
  },
  {
   "cell_type": "markdown",
   "metadata": {
    "pycharm": {
     "name": "#%% md\n"
    }
   },
   "source": [
    "More epochs doesn't seem to give better result, surprisingly, the results were even slightly worse.\n",
    "We now used the evaluator, so we can take a look at how the quality evolves when we do more epochs."
   ]
  },
  {
   "cell_type": "code",
   "execution_count": 27,
   "metadata": {
    "pycharm": {
     "name": "#%%\n"
    }
   },
   "outputs": [
    {
     "data": {
      "text/plain": [
       "<AxesSubplot:xlabel='epoch'>"
      ]
     },
     "execution_count": 27,
     "metadata": {},
     "output_type": "execute_result"
    },
    {
     "data": {
      "image/png": "[encoded data removed]",
      "text/plain": [
       "<Figure size 432x288 with 1 Axes>"
      ]
     },
     "metadata": {
      "needs_background": "light"
     },
     "output_type": "display_data"
    }
   ],
   "source": [
    "# Load the CERerankingEvaluator data\n",
    "df = pd.read_csv(f\"{model_save_path}/CERerankingEvaluator_ms-marco-attempt-3_results.csv\")\n",
    "df.plot(x='epoch', y='MRR@10')"
   ]
  },
  {
   "cell_type": "markdown",
   "metadata": {
    "pycharm": {
     "name": "#%% md\n"
    }
   },
   "source": [
    "In the data we can see that it slightly gets worse when we do more epochs. The best results (on are dev data) are achieved after two epochs, so let's continue using that then."
   ]
  },
  {
   "cell_type": "code",
   "execution_count": 28,
   "metadata": {
    "pycharm": {
     "name": "#%%\n"
    }
   },
   "outputs": [
    {
     "data": {
      "application/vnd.jupyter.widget-view+json": {
       "model_id": "176827eb2094480c95d1d6c39eb41751",
       "version_major": 2,
       "version_minor": 0
      },
      "text/plain": [
       "Epoch:   0%|          | 0/2 [00:00<?, ?it/s]"
      ]
     },
     "metadata": {},
     "output_type": "display_data"
    },
    {
     "data": {
      "application/vnd.jupyter.widget-view+json": {
       "model_id": "5d0bd853d5e54519b84cc54d8a4fcebd",
       "version_major": 2,
       "version_minor": 0
      },
      "text/plain": [
       "Iteration:   0%|          | 0/7000 [00:00<?, ?it/s]"
      ]
     },
     "metadata": {},
     "output_type": "display_data"
    },
    {
     "data": {
      "application/vnd.jupyter.widget-view+json": {
       "model_id": "9b0ce599c35444f784d1418b065a078c",
       "version_major": 2,
       "version_minor": 0
      },
      "text/plain": [
       "Iteration:   0%|          | 0/7000 [00:00<?, ?it/s]"
      ]
     },
     "metadata": {},
     "output_type": "display_data"
    },
    {
     "name": "stderr",
     "output_type": "stream",
     "text": [
      "100%|██████████| 644/644 [02:05<00:00,  5.13it/s]"
     ]
    },
    {
     "name": "stdout",
     "output_type": "stream",
     "text": [
      "Recall@10: 0.5333857093562061, Precision@10: 0.5301242236024845\n"
     ]
    },
    {
     "name": "stderr",
     "output_type": "stream",
     "text": [
      "\n"
     ]
    }
   ],
   "source": [
    "model_name = 'cross-encoder/ms-marco-TinyBERT-L-2-v2'\n",
    "train_batch_size = 16\n",
    "num_epochs = 2\n",
    "model_save_path = f'output/training-{model_name}-b{train_batch_size}e{num_epochs}-attempt4'\n",
    "\n",
    "model = CrossEncoder(model_name, num_labels=1)\n",
    "train_dataloader = DataLoader(train_samples, shuffle=True, batch_size=train_batch_size)\n",
    "evaluator = CERerankingEvaluator(dev_samples, name='ms-marco-attempt-3')\n",
    "warmup_steps = math.ceil(len(train_dataloader) * num_epochs * 0.1)\n",
    "\n",
    "model.fit(train_dataloader=train_dataloader,\n",
    "          evaluator=evaluator,\n",
    "          epochs=num_epochs,\n",
    "          warmup_steps=warmup_steps,\n",
    "          output_path=model_save_path)\n",
    "\n",
    "# Training done, now evaluate the model\n",
    "luceneCrossRetriever = LuceneCrossRetriever(model_save_path)\n",
    "recall, precision = rater.get_rating(luceneCrossRetriever)"
   ]
  },
  {
   "cell_type": "markdown",
   "metadata": {
    "pycharm": {
     "name": "#%% md\n"
    }
   },
   "source": [
    "Our model after 4 epochs still gave a slightly better result, so let's just use that one instead."
   ]
  },
  {
   "cell_type": "code",
   "execution_count": 35,
   "metadata": {
    "pycharm": {
     "name": "#%%\n"
    }
   },
   "outputs": [
    {
     "name": "stderr",
     "output_type": "stream",
     "text": [
      "100%|██████████| 112000/112000 [00:08<00:00, 13976.62it/s]\n",
      "100%|██████████| 28000/28000 [00:01<00:00, 19548.86it/s]\n"
     ]
    },
    {
     "data": {
      "application/vnd.jupyter.widget-view+json": {
       "model_id": "83d5c2a3e90f497b8a3929e02562983f",
       "version_major": 2,
       "version_minor": 0
      },
      "text/plain": [
       "Epoch:   0%|          | 0/4 [00:00<?, ?it/s]"
      ]
     },
     "metadata": {},
     "output_type": "display_data"
    },
    {
     "data": {
      "application/vnd.jupyter.widget-view+json": {
       "model_id": "fa5cae253a9946a08d1b38e8448071d5",
       "version_major": 2,
       "version_minor": 0
      },
      "text/plain": [
       "Iteration:   0%|          | 0/7000 [00:00<?, ?it/s]"
      ]
     },
     "metadata": {},
     "output_type": "display_data"
    },
    {
     "data": {
      "application/vnd.jupyter.widget-view+json": {
       "model_id": "b1967faf1ae34e5bb96541edcbdcd27f",
       "version_major": 2,
       "version_minor": 0
      },
      "text/plain": [
       "Iteration:   0%|          | 0/7000 [00:00<?, ?it/s]"
      ]
     },
     "metadata": {},
     "output_type": "display_data"
    },
    {
     "data": {
      "application/vnd.jupyter.widget-view+json": {
       "model_id": "412e4eccacf04832aa087507f74034da",
       "version_major": 2,
       "version_minor": 0
      },
      "text/plain": [
       "Iteration:   0%|          | 0/7000 [00:00<?, ?it/s]"
      ]
     },
     "metadata": {},
     "output_type": "display_data"
    },
    {
     "data": {
      "application/vnd.jupyter.widget-view+json": {
       "model_id": "696eba741d5443b88283cd4002c51fdb",
       "version_major": 2,
       "version_minor": 0
      },
      "text/plain": [
       "Iteration:   0%|          | 0/7000 [00:00<?, ?it/s]"
      ]
     },
     "metadata": {},
     "output_type": "display_data"
    },
    {
     "name": "stderr",
     "output_type": "stream",
     "text": [
      "100%|██████████| 644/644 [02:13<00:00,  4.81it/s]"
     ]
    },
    {
     "name": "stdout",
     "output_type": "stream",
     "text": [
      "Recall@10: 0.5427265108942125, Precision@10: 0.5392857142857139\n"
     ]
    },
    {
     "name": "stderr",
     "output_type": "stream",
     "text": [
      "\n"
     ]
    }
   ],
   "source": [
    "# I accidentally overwritten that model, so let's try generating it again\n",
    "\n",
    "from sentence_transformers.cross_encoder.evaluation import CECorrelationEvaluator\n",
    "from torch.utils.data import DataLoader\n",
    "import math\n",
    "\n",
    "# For some reason, I can't reuse a sample list, so let's generate it again\n",
    "train_samples = get_sample_list(train_data)\n",
    "dev_samples = get_sample_list(dev_data)\n",
    "\n",
    "model_name = 'cross-encoder/ms-marco-TinyBERT-L-2-v2'\n",
    "train_batch_size = 16\n",
    "num_epochs = 4\n",
    "model_save_path = f'output/training-{model_name}-b{train_batch_size}e{num_epochs}'\n",
    "\n",
    "model = CrossEncoder(model_name)\n",
    "train_dataloader = DataLoader(train_samples, shuffle=True, batch_size=train_batch_size)\n",
    "evaluator = CECorrelationEvaluator.from_input_examples(dev_samples, name='ms-marco-attempt-2')\n",
    "warmup_steps = math.ceil(len(train_dataloader) * num_epochs * 0.1)\n",
    "\n",
    "model.fit(train_dataloader=train_dataloader,\n",
    "          epochs=num_epochs,\n",
    "          warmup_steps=warmup_steps,\n",
    "          output_path=model_save_path)\n",
    "\n",
    "# Training done, now evaluate the model\n",
    "luceneCrossRetriever = LuceneCrossRetriever(model_save_path)\n",
    "recall, precision = rater.get_rating(luceneCrossRetriever)"
   ]
  },
  {
   "cell_type": "markdown",
   "metadata": {
    "pycharm": {
     "name": "#%% md\n"
    }
   },
   "source": [
    "## Truncate length\n",
    "There are still a lot of hyperparameters that can be tuned, but I can keep on going endlessly if I do that.\n",
    "Since we're not going to do all of them, let's take a look at the truncate length as last one."
   ]
  },
  {
   "cell_type": "code",
   "execution_count": 36,
   "metadata": {
    "pycharm": {
     "name": "#%%\n"
    }
   },
   "outputs": [
    {
     "name": "stdout",
     "output_type": "stream",
     "text": [
      "None\n"
     ]
    }
   ],
   "source": [
    "model_name = 'output/training-cross-encoder/ms-marco-TinyBERT-L-2-v2-b16e4/'\n",
    "model = CrossEncoder(model_name)\n",
    "print(model.max_length)"
   ]
  },
  {
   "cell_type": "markdown",
   "metadata": {
    "pycharm": {
     "name": "#%% md\n"
    }
   },
   "source": [
    "Strangely, there is no max_length set for this model, meaning that it can just run with any input length. Let's try to set some different max_length values."
   ]
  },
  {
   "cell_type": "code",
   "execution_count": 37,
   "metadata": {
    "pycharm": {
     "name": "#%%\n"
    }
   },
   "outputs": [
    {
     "name": "stdout",
     "output_type": "stream",
     "text": [
      "Evaluating length 16\n"
     ]
    },
    {
     "name": "stderr",
     "output_type": "stream",
     "text": [
      "100%|██████████| 644/644 [02:44<00:00,  3.91it/s]\n"
     ]
    },
    {
     "name": "stdout",
     "output_type": "stream",
     "text": [
      "Recall@10: 0.4056430543231791, Precision@10: 0.403260869565218\n",
      "Evaluating length 32\n"
     ]
    },
    {
     "name": "stderr",
     "output_type": "stream",
     "text": [
      "100%|██████████| 644/644 [01:41<00:00,  6.32it/s]\n"
     ]
    },
    {
     "name": "stdout",
     "output_type": "stream",
     "text": [
      "Recall@10: 0.45131433007985844, Precision@10: 0.44875776397515543\n",
      "Evaluating length 64\n"
     ]
    },
    {
     "name": "stderr",
     "output_type": "stream",
     "text": [
      "100%|██████████| 644/644 [01:42<00:00,  6.26it/s]\n"
     ]
    },
    {
     "name": "stdout",
     "output_type": "stream",
     "text": [
      "Recall@10: 0.47991595188800135, Precision@10: 0.47686335403726665\n",
      "Evaluating length 128\n"
     ]
    },
    {
     "name": "stderr",
     "output_type": "stream",
     "text": [
      "100%|██████████| 644/644 [01:45<00:00,  6.09it/s]\n"
     ]
    },
    {
     "name": "stdout",
     "output_type": "stream",
     "text": [
      "Recall@10: 0.4861228186926945, Precision@10: 0.4829192546583851\n",
      "Evaluating length 256\n"
     ]
    },
    {
     "name": "stderr",
     "output_type": "stream",
     "text": [
      "100%|██████████| 644/644 [02:01<00:00,  5.30it/s]\n"
     ]
    },
    {
     "name": "stdout",
     "output_type": "stream",
     "text": [
      "Recall@10: 0.5004492014196982, Precision@10: 0.49704968944099354\n",
      "Evaluating length 512\n"
     ]
    },
    {
     "name": "stderr",
     "output_type": "stream",
     "text": [
      "100%|██████████| 644/644 [02:10<00:00,  4.93it/s]\n"
     ]
    },
    {
     "name": "stdout",
     "output_type": "stream",
     "text": [
      "Recall@10: 0.5427265108942125, Precision@10: 0.5392857142857139\n"
     ]
    },
    {
     "data": {
      "text/plain": [
       "[<matplotlib.lines.Line2D at 0x269924f8ca0>]"
      ]
     },
     "execution_count": 37,
     "metadata": {},
     "output_type": "execute_result"
    },
    {
     "data": {
      "image/png": "[encoded data removed]",
      "text/plain": [
       "<Figure size 432x288 with 1 Axes>"
      ]
     },
     "metadata": {
      "needs_background": "light"
     },
     "output_type": "display_data"
    }
   ],
   "source": [
    "# Let's just evaluate based on the precision\n",
    "lenght_scores = []  # Will contain tuples (max_length, score)\n",
    "\n",
    "\n",
    "def evaluate_length(max_length):\n",
    "    print(f\"Evaluating length {max_length}\")\n",
    "    model = CrossEncoder(model_name, max_length=max_length)\n",
    "    luceneCrossRetriever = LuceneCrossRetriever(cross_encoder=model)\n",
    "    recall, precision = rater.get_rating(luceneCrossRetriever)\n",
    "    return precision\n",
    "\n",
    "\n",
    "for i in [16, 32, 64, 128, 256, 512]:  # 1024]:\n",
    "    lenght_scores.append((i, evaluate_length(i)))\n",
    "\n",
    "# Plot the given lengths\n",
    "# src: https://stackoverflow.com/questions/18458734/how-do-i-plot-list-of-tuples-in-python\n",
    "import matplotlib.pyplot as plt\n",
    "\n",
    "x, y = zip(*lenght_scores)\n",
    "plt.plot(x, y)"
   ]
  },
  {
   "cell_type": "markdown",
   "metadata": {
    "pycharm": {
     "name": "#%% md\n"
    }
   },
   "source": [
    "Length 1024 causes a runtime error, but for the other values it is clear that the higher the max_length, the better the results (as expected).\n",
    "```\n",
    "RuntimeError: The size of tensor a (1024) must match the size of tensor b (512) at non-singleton dimension 1\n",
    "```"
   ]
  },
  {
   "cell_type": "code",
   "execution_count": 38,
   "metadata": {
    "pycharm": {
     "name": "#%%\n"
    }
   },
   "outputs": [
    {
     "name": "stderr",
     "output_type": "stream",
     "text": [
      "100%|██████████| 644/644 [02:02<00:00,  5.26it/s]"
     ]
    },
    {
     "name": "stdout",
     "output_type": "stream",
     "text": [
      "Recall@10: 0.5427265108942125, Precision@10: 0.5392857142857139\n"
     ]
    },
    {
     "name": "stderr",
     "output_type": "stream",
     "text": [
      "\n"
     ]
    }
   ],
   "source": [
    "# Run the model again, without a model specified\n",
    "model = CrossEncoder(model_name)\n",
    "luceneCrossRetriever = LuceneCrossRetriever(cross_encoder=model)\n",
    "recall, precision = rater.get_rating(luceneCrossRetriever)"
   ]
  },
  {
   "cell_type": "markdown",
   "metadata": {
    "pycharm": {
     "name": "#%% md\n"
    }
   },
   "source": [
    "No max length specified gives the same output as when max_length = 512, but as mentioned earlier print(model.max_length) gave None. Maybe it still gets truncated at this length without having the correct variable set, but I couldn't find anything about that in\n",
    "\n",
    "## Relevance labeling\n",
    "The ModelRater currently mainly focussed on the ranking of documents.\n",
    "This is achieved by giving a score with a cross-encoder.\n",
    "To determine whether a document is relevant, we have to find a threshold for given score.\n",
    "To find ths threshold, first generate a score for all training parts and then try some different values and see how well it performs on the dev_data."
   ]
  },
  {
   "cell_type": "code",
   "execution_count": 1,
   "metadata": {
    "pycharm": {
     "name": "#%%\n"
    }
   },
   "outputs": [
    {
     "name": "stderr",
     "output_type": "stream",
     "text": [
      "C:\\Users\\arnod\\AppData\\Local\\Temp/ipykernel_17500/3629609854.py:14: SettingWithCopyWarning: \n",
      "A value is trying to be set on a copy of a slice from a DataFrame.\n",
      "Try using .loc[row_indexer,col_indexer] = value instead\n",
      "\n",
      "See the caveats in the documentation: https://pandas.pydata.org/pandas-docs/stable/user_guide/indexing.html#returning-a-view-versus-a-copy\n",
      "  query_text['Query'] = query_text['Query'].astype(str)\n",
      "C:\\Users\\arnod\\AppData\\Local\\Temp/ipykernel_17500/3629609854.py:15: SettingWithCopyWarning: \n",
      "A value is trying to be set on a copy of a slice from a DataFrame.\n",
      "Try using .loc[row_indexer,col_indexer] = value instead\n",
      "\n",
      "See the caveats in the documentation: https://pandas.pydata.org/pandas-docs/stable/user_guide/indexing.html#returning-a-view-versus-a-copy\n",
      "  query_text['doc_text'] = query_text['doc_text'].astype(str)\n"
     ]
    },
    {
     "data": {
      "application/vnd.jupyter.widget-view+json": {
       "model_id": "b4345c932f43416cb5d9a7741db0cab2",
       "version_major": 2,
       "version_minor": 0
      },
      "text/plain": [
       "Batches:   0%|          | 0/4375 [00:00<?, ?it/s]"
      ]
     },
     "metadata": {},
     "output_type": "display_data"
    },
    {
     "data": {
      "text/html": [
       "<div>\n",
       "<style scoped>\n",
       "    .dataframe tbody tr th:only-of-type {\n",
       "        vertical-align: middle;\n",
       "    }\n",
       "\n",
       "    .dataframe tbody tr th {\n",
       "        vertical-align: top;\n",
       "    }\n",
       "\n",
       "    .dataframe thead th {\n",
       "        text-align: right;\n",
       "    }\n",
       "</style>\n",
       "<table border=\"1\" class=\"dataframe\">\n",
       "  <thead>\n",
       "    <tr style=\"text-align: right;\">\n",
       "      <th></th>\n",
       "      <th>Query_number</th>\n",
       "      <th>Query</th>\n",
       "      <th>doc_text</th>\n",
       "      <th>doc_number</th>\n",
       "      <th>index</th>\n",
       "      <th>label</th>\n",
       "      <th>our_score</th>\n",
       "    </tr>\n",
       "  </thead>\n",
       "  <tbody>\n",
       "    <tr>\n",
       "      <th>0</th>\n",
       "      <td>2</td>\n",
       "      <td>androgen receptor define</td>\n",
       "      <td>Video Writeups The Ultimate Guide to Sarms Las...</td>\n",
       "      <td>177589</td>\n",
       "      <td>37451</td>\n",
       "      <td>1</td>\n",
       "      <td>-0.689590</td>\n",
       "    </tr>\n",
       "    <tr>\n",
       "      <th>1</th>\n",
       "      <td>2</td>\n",
       "      <td>androgen receptor define</td>\n",
       "      <td>Category: SARMSSARMS Reviewed and Explained Dy...</td>\n",
       "      <td>193130</td>\n",
       "      <td>37452</td>\n",
       "      <td>1</td>\n",
       "      <td>-0.316287</td>\n",
       "    </tr>\n",
       "    <tr>\n",
       "      <th>2</th>\n",
       "      <td>2</td>\n",
       "      <td>androgen receptor define</td>\n",
       "      <td>The Hormones : Androgens Construction and Prod...</td>\n",
       "      <td>392384</td>\n",
       "      <td>37453</td>\n",
       "      <td>1</td>\n",
       "      <td>1.347050</td>\n",
       "    </tr>\n",
       "    <tr>\n",
       "      <th>3</th>\n",
       "      <td>2</td>\n",
       "      <td>androgen receptor define</td>\n",
       "      <td>Theriogenology Volume 80, Issue 6, 1 October 2...</td>\n",
       "      <td>15195</td>\n",
       "      <td>37454</td>\n",
       "      <td>1</td>\n",
       "      <td>0.731395</td>\n",
       "    </tr>\n",
       "    <tr>\n",
       "      <th>4</th>\n",
       "      <td>2</td>\n",
       "      <td>androgen receptor define</td>\n",
       "      <td>SARMs: The Controversial Muscle Builders of 20...</td>\n",
       "      <td>269140</td>\n",
       "      <td>37455</td>\n",
       "      <td>1</td>\n",
       "      <td>-1.335425</td>\n",
       "    </tr>\n",
       "  </tbody>\n",
       "</table>\n",
       "</div>"
      ],
      "text/plain": [
       "   Query_number                      Query  \\\n",
       "0             2   androgen receptor define   \n",
       "1             2   androgen receptor define   \n",
       "2             2   androgen receptor define   \n",
       "3             2   androgen receptor define   \n",
       "4             2   androgen receptor define   \n",
       "\n",
       "                                            doc_text  doc_number  index  \\\n",
       "0  Video Writeups The Ultimate Guide to Sarms Las...      177589  37451   \n",
       "1  Category: SARMSSARMS Reviewed and Explained Dy...      193130  37452   \n",
       "2  The Hormones : Androgens Construction and Prod...      392384  37453   \n",
       "3  Theriogenology Volume 80, Issue 6, 1 October 2...       15195  37454   \n",
       "4  SARMs: The Controversial Muscle Builders of 20...      269140  37455   \n",
       "\n",
       "   label  our_score  \n",
       "0      1  -0.689590  \n",
       "1      1  -0.316287  \n",
       "2      1   1.347050  \n",
       "3      1   0.731395  \n",
       "4      1  -1.335425  "
      ]
     },
     "execution_count": 1,
     "metadata": {},
     "output_type": "execute_result"
    }
   ],
   "source": [
    "from sentence_transformers import CrossEncoder\n",
    "import pandas as pd\n",
    "\n",
    "model_name = 'output/training-cross-encoder/ms-marco-TinyBERT-L-2-v2-b16e4/'\n",
    "model = CrossEncoder(model_name)\n",
    "train_data = pd.read_csv(\"data/training_data.csv\")\n",
    "\n",
    "# Assign scores made by our crossencoder for every training element.\n",
    "# The predict function also has a show_progress_bar option, so we can just predict them all at once (while still having an idea of how long it will take)\n",
    "\n",
    "# Create the pairs for which to predict the score\n",
    "query_text = train_data[['Query', 'doc_text']]\n",
    "# There is somewhere a record that is a float instead of a string, so cast everything to a string\n",
    "query_text['Query'] = query_text['Query'].astype(str)\n",
    "query_text['doc_text'] = query_text['doc_text'].astype(str)\n",
    "# df to list op tuples (src: https://www.kite.com/python/answers/how-to-convert-a-pandas-dataframe-into-a-list-of-tuples-in-python)\n",
    "records = query_text.to_records(index=False)\n",
    "sentences = list(records)\n",
    "\n",
    "# Predict the scores\n",
    "scores = model.predict(sentences, show_progress_bar=True)\n",
    "\n",
    "train_data['our_score'] = scores  # If scores is a np array, append .tolist()\n",
    "train_data.head()"
   ]
  },
  {
   "cell_type": "markdown",
   "metadata": {
    "pycharm": {
     "name": "#%% md\n"
    }
   },
   "source": [
    "Great, we now have our scores added to the dataframe, let's see what a good threshold would be."
   ]
  },
  {
   "cell_type": "code",
   "execution_count": 53,
   "metadata": {
    "pycharm": {
     "name": "#%%\n"
    }
   },
   "outputs": [
    {
     "data": {
      "image/png": "[encoded data removed]",
      "text/plain": [
       "<Figure size 432x288 with 1 Axes>"
      ]
     },
     "metadata": {
      "needs_background": "light"
     },
     "output_type": "display_data"
    }
   ],
   "source": [
    "# Let's make some plots, because that always looks fancy\n",
    "# And we can also use them to get a general idea of how our data is spread\n",
    "# positive_labels = train_data[train_data['label'] == 1]\n",
    "# negative_labels = train_data[train_data['label'] == 0]\n",
    "#\n",
    "# positive_label_scores = positive_labels[['our_score']]\n",
    "# negative_label_scores = negative_labels[['our_score']]\n",
    "#\n",
    "# positive_label_scores.boxplot()\n",
    "# negative_label_scores.boxplot()\n",
    "#\n",
    "# pos_neg_label_scores = pd.concat([positive_label_scores, negative_label_scores], keys=['positive', 'negative'])\n",
    "#\n",
    "# pos_neg_label_scores.boxplot()\n",
    "\n",
    "# All code above isn't required anymore since I found the group_by option\n",
    "boxplot = train_data.boxplot(column=['our_score'], by='label')"
   ]
  },
  {
   "cell_type": "markdown",
   "metadata": {
    "pycharm": {
     "name": "#%% md\n"
    }
   },
   "source": [
    "Given those boxplots, we can see that's its impossible to create a perfect threshold value, but we can try to maximize the correct predictions and minimize the wrong predictions by testing some different values. The best treshold will probably be somewhere between -0.5 and 1.5.\n",
    "\n",
    "Note: to increase the recall, we should lower the treshold and to increase the precision, we should make the treshold higher.\n",
    "\n",
    "Let's try some different possible threshold values. For this, we need an evaluation score, where we want to maximize the true positives and true negatives, and minimize the false positives and false negatives.\n",
    "In this function, the higher the score, the better."
   ]
  },
  {
   "cell_type": "code",
   "execution_count": 2,
   "metadata": {
    "pycharm": {
     "name": "#%%\n"
    }
   },
   "outputs": [
    {
     "data": {
      "text/plain": [
       "(55848, 97924, 42076)"
      ]
     },
     "execution_count": 2,
     "metadata": {},
     "output_type": "execute_result"
    }
   ],
   "source": [
    "def get_threshold_score(threshold):\n",
    "    filtered_relevant = train_data[train_data['our_score'] > threshold]\n",
    "    filtered_irrelevant = train_data[train_data['our_score'] <= threshold]\n",
    "\n",
    "    true_positives = filtered_relevant[filtered_relevant['label'] == 1]\n",
    "    false_positives = filtered_relevant[filtered_relevant['label'] == 0]\n",
    "    true_negatives = filtered_irrelevant[filtered_irrelevant['label'] == 0]\n",
    "    false_negatives = filtered_irrelevant[filtered_irrelevant['label'] == 1]\n",
    "\n",
    "    total_right = true_positives.count()['label'] + true_negatives.count()['label']\n",
    "    total_wrong = false_positives.count()['label'] + false_negatives.count()['label']\n",
    "\n",
    "    # Higher score is better\n",
    "    score = total_right - total_wrong\n",
    "    return score, total_right, total_wrong\n",
    "\n",
    "\n",
    "get_threshold_score(0.5)"
   ]
  },
  {
   "cell_type": "code",
   "execution_count": 4,
   "metadata": {
    "pycharm": {
     "name": "#%%\n"
    }
   },
   "outputs": [
    {
     "name": "stderr",
     "output_type": "stream",
     "text": [
      " 20%|██        | 4/20 [00:00<00:01, 14.77it/s]"
     ]
    },
    {
     "name": "stdout",
     "output_type": "stream",
     "text": [
      "New max with threshold -0.5: 43834\n",
      "New max with threshold -0.4: 46244\n",
      "New max with threshold -0.30000000000000004: 48624\n",
      "New max with threshold -0.20000000000000007: 50816\n"
     ]
    },
    {
     "name": "stderr",
     "output_type": "stream",
     "text": [
      " 40%|████      | 8/20 [00:00<00:00, 15.09it/s]"
     ]
    },
    {
     "name": "stdout",
     "output_type": "stream",
     "text": [
      "New max with threshold -0.10000000000000009: 52482\n",
      "New max with threshold -1.1102230246251565e-16: 53628\n",
      "New max with threshold 0.09999999999999987: 54730\n",
      "New max with threshold 0.19999999999999984: 55212\n"
     ]
    },
    {
     "name": "stderr",
     "output_type": "stream",
     "text": [
      " 60%|██████    | 12/20 [00:00<00:00, 15.20it/s]"
     ]
    },
    {
     "name": "stdout",
     "output_type": "stream",
     "text": [
      "New max with threshold 0.2999999999999998: 55748\n",
      "New max with threshold 0.3999999999999998: 55968\n"
     ]
    },
    {
     "name": "stderr",
     "output_type": "stream",
     "text": [
      "100%|██████████| 20/20 [00:01<00:00, 15.24it/s]\n"
     ]
    }
   ],
   "source": [
    "import numpy as np  # Default python range doesn't support float steps\n",
    "from tqdm import tqdm\n",
    "\n",
    "# Test some possible threshold values\n",
    "max_score = -float(\"inf\")\n",
    "best_threshold = 0\n",
    "\n",
    "scores = []\n",
    "rights = []\n",
    "wrongs = []\n",
    "thresholds = np.arange(-0.5, 1.5, 0.1)\n",
    "for threshold in tqdm(thresholds, total=thresholds.size):\n",
    "    score, right, wrong = get_threshold_score(threshold)\n",
    "    scores.append(score)\n",
    "    rights.append(right)\n",
    "    wrongs.append(wrong)\n",
    "\n",
    "    if score > max_score:\n",
    "        print(f\"New max with threshold {threshold}: {score}\")\n",
    "        max_score = score\n",
    "        best_threshold = threshold"
   ]
  },
  {
   "cell_type": "code",
   "execution_count": 6,
   "metadata": {
    "pycharm": {
     "name": "#%%\n"
    }
   },
   "outputs": [
    {
     "data": {
      "image/png": "[encoded data removed]",
      "text/plain": [
       "<Figure size 432x288 with 1 Axes>"
      ]
     },
     "metadata": {
      "needs_background": "light"
     },
     "output_type": "display_data"
    }
   ],
   "source": [
    "import matplotlib.pyplot as plt\n",
    "# Make the plots\n",
    "# src: https://howtothink.readthedocs.io/en/latest/PvL_H.html\n",
    "plt.plot(thresholds, rights, label='Correct predictions')\n",
    "plt.plot(thresholds, wrongs, label='Incorrect predictions')\n",
    "plt.xlabel(\"Threshold\")\n",
    "plt.ylabel(\"Count\")\n",
    "plt.legend()\n",
    "plt.show()"
   ]
  },
  {
   "cell_type": "code",
   "execution_count": 7,
   "metadata": {
    "pycharm": {
     "name": "#%%\n"
    }
   },
   "outputs": [
    {
     "data": {
      "image/png": "[encoded data removed]",
      "text/plain": [
       "<Figure size 432x288 with 1 Axes>"
      ]
     },
     "metadata": {
      "needs_background": "light"
     },
     "output_type": "display_data"
    }
   ],
   "source": [
    "plt.plot(thresholds, scores)\n",
    "plt.xlabel(\"Threshold\")\n",
    "plt.ylabel(\"Score\")\n",
    "plt.show()"
   ]
  },
  {
   "cell_type": "markdown",
   "metadata": {
    "pycharm": {
     "name": "#%% md\n"
    }
   },
   "source": [
    "Based on this, we'll use a cross-encoder score of 0.4 as threshold for a document to be relevant.\n",
    "\n",
    "With this threshold, I can also generate a recall and precission for predicting labels (since I up to now only got one for recommending documents). However, the raw_dev_Lucene_retrievals.csv didn't contain a score or a label, so I can't use this as baseline to compare this recall and precission with it. The training set also only contains documents that we're retrieved, so only positives (false and true) and not negatives, so this also can't be used to get a baseline recall (but precision can be calculated with this)."
   ]
  },
  {
   "cell_type": "code",
   "execution_count": 17,
   "outputs": [
    {
     "name": "stderr",
     "output_type": "stream",
     "text": [
      "C:\\Users\\arnod\\AppData\\Local\\Temp/ipykernel_17500/3427433875.py:5: SettingWithCopyWarning: \n",
      "A value is trying to be set on a copy of a slice from a DataFrame.\n",
      "Try using .loc[row_indexer,col_indexer] = value instead\n",
      "\n",
      "See the caveats in the documentation: https://pandas.pydata.org/pandas-docs/stable/user_guide/indexing.html#returning-a-view-versus-a-copy\n",
      "  query_text['Query'] = query_text['Query'].astype(str)\n",
      "C:\\Users\\arnod\\AppData\\Local\\Temp/ipykernel_17500/3427433875.py:6: SettingWithCopyWarning: \n",
      "A value is trying to be set on a copy of a slice from a DataFrame.\n",
      "Try using .loc[row_indexer,col_indexer] = value instead\n",
      "\n",
      "See the caveats in the documentation: https://pandas.pydata.org/pandas-docs/stable/user_guide/indexing.html#returning-a-view-versus-a-copy\n",
      "  query_text['doc_text'] = query_text['doc_text'].astype(str)\n"
     ]
    },
    {
     "data": {
      "text/plain": "Batches:   0%|          | 0/625 [00:00<?, ?it/s]",
      "application/vnd.jupyter.widget-view+json": {
       "version_major": 2,
       "version_minor": 0,
       "model_id": "53f119c823544b85a4b42c299d4370bc"
      }
     },
     "metadata": {},
     "output_type": "display_data"
    }
   ],
   "source": [
    "# We determined the threshold using the train_data, so use another dataset to evaluate it\n",
    "dev_data = pd.read_csv('data/dev_data.csv')\n",
    "\n",
    "query_text = dev_data[['Query', 'doc_text']]\n",
    "query_text['Query'] = query_text['Query'].astype(str)\n",
    "query_text['doc_text'] = query_text['doc_text'].astype(str)\n",
    "\n",
    "records = query_text.to_records(index=False)\n",
    "sentences = list(records)\n",
    "\n",
    "scores = model.predict(sentences, show_progress_bar=True)\n",
    "\n",
    "dev_data['our_score'] = scores  # If scores is a np array, append .tolist()\n"
   ],
   "metadata": {
    "collapsed": false,
    "pycharm": {
     "name": "#%%\n"
    }
   }
  },
  {
   "cell_type": "code",
   "execution_count": 18,
   "outputs": [
    {
     "data": {
      "text/plain": "(0.5963632730542512, 0.6802279202279202)"
     },
     "execution_count": 18,
     "metadata": {},
     "output_type": "execute_result"
    }
   ],
   "source": [
    "threshold = 0.4\n",
    "\n",
    "filtered_relevant = dev_data[dev_data['our_score'] > threshold]\n",
    "filtered_irrelevant = dev_data[dev_data['our_score'] <= threshold]\n",
    "\n",
    "true_positives = filtered_relevant[filtered_relevant['label'] == 1].count()['label']\n",
    "false_positives = filtered_relevant[filtered_relevant['label'] == 0].count()['label']\n",
    "true_negatives = filtered_irrelevant[filtered_irrelevant['label'] == 0].count()['label']\n",
    "false_negatives = filtered_irrelevant[filtered_irrelevant['label'] == 1].count()['label']\n",
    "\n",
    "recall = true_positives / (true_positives + false_negatives)\n",
    "precision = true_positives / (true_positives + false_positives)\n",
    "\n",
    "recall, precision"
   ],
   "metadata": {
    "collapsed": false,
    "pycharm": {
     "name": "#%%\n"
    }
   }
  },
  {
   "cell_type": "markdown",
   "source": [
    "Calculate the baseline precision for Lucene based on the training_data.csv"
   ],
   "metadata": {
    "collapsed": false,
    "pycharm": {
     "name": "#%% md\n"
    }
   }
  },
  {
   "cell_type": "code",
   "execution_count": 19,
   "outputs": [
    {
     "data": {
      "text/plain": "0.4972142857142857"
     },
     "execution_count": 19,
     "metadata": {},
     "output_type": "execute_result"
    }
   ],
   "source": [
    "training_data = pd.read_csv('data/training_data.csv')\n",
    "\n",
    "true_positives = training_data[training_data['label'] == 1].count()['label']\n",
    "false_positives = training_data[training_data['label'] == 0].count()['label']\n",
    "\n",
    "precision = true_positives / (true_positives + false_positives)\n",
    "\n",
    "precision"
   ],
   "metadata": {
    "collapsed": false,
    "pycharm": {
     "name": "#%%\n"
    }
   }
  },
  {
   "cell_type": "markdown",
   "source": [
    "## Test dataset\n",
    "Enough experiments, time to rate and rank the test dataset."
   ],
   "metadata": {
    "collapsed": false,
    "pycharm": {
     "name": "#%% md\n"
    }
   }
  },
  {
   "cell_type": "code",
   "execution_count": 15,
   "metadata": {
    "pycharm": {
     "name": "#%%\n"
    }
   },
   "outputs": [
    {
     "data": {
      "text/plain": "Batches:   0%|          | 0/57 [00:00<?, ?it/s]",
      "application/vnd.jupyter.widget-view+json": {
       "version_major": 2,
       "version_minor": 0,
       "model_id": "5922c1c16cf94a0aa1a18dfb199cb8ce"
      }
     },
     "metadata": {},
     "output_type": "display_data"
    }
   ],
   "source": [
    "test_data = pd.read_csv(\"data/test_data.csv\")\n",
    "\n",
    "query_text = test_data[['Query', 'doc_text']]  # 5 for testing purposes\n",
    "\n",
    "records = query_text.to_records(index=False)\n",
    "sentences = list(records)\n",
    "\n",
    "# Predict the scores\n",
    "scores = model.predict(sentences, show_progress_bar=True)\n",
    "\n",
    "test_data['relevance_score'] = scores\n",
    "\n",
    "# Set the labels\n",
    "# src: https://stackoverflow.com/questions/49161120/pandas-python-set-value-of-one-column-based-on-value-in-another-column\n",
    "threshold = 0.4\n",
    "test_data['label'] = np.where(test_data.relevance_score > threshold, 1, 0)\n",
    "\n",
    "sorted = test_data.sort_values(by=[\"Query_number\", \"relevance_score\"], ascending=[True, False])\n",
    "\n",
    "sorted.to_csv('neural_model_rank.csv', index=False)"
   ]
  }
 ],
 "metadata": {
  "kernelspec": {
   "display_name": "Python 3 (ipykernel)",
   "language": "python",
   "name": "python3"
  },
  "language_info": {
   "codemirror_mode": {
    "name": "ipython",
    "version": 3
   },
   "file_extension": ".py",
   "mimetype": "text/x-python",
   "name": "python",
   "nbconvert_exporter": "python",
   "pygments_lexer": "ipython3",
   "version": "3.9.7"
  }
 },
 "nbformat": 4,
 "nbformat_minor": 1
}